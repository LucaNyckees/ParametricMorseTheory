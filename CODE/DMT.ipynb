{
 "cells": [
  {
   "cell_type": "markdown",
   "metadata": {},
   "source": [
    "# Parametric Morse Theory "
   ]
  },
  {
   "cell_type": "markdown",
   "metadata": {},
   "source": [
    "In this notebook, we run an analysis of the discrete Morse theory characteristics of some graphs whose labels are decided upon a simple spectral theory-based principle (described in detail later on). "
   ]
  },
  {
   "cell_type": "code",
   "execution_count": 1,
   "metadata": {},
   "outputs": [],
   "source": [
    "import networkx as nx\n",
    "import numpy as np\n",
    "from numpy import linalg as LA\n",
    "import scipy\n",
    "from simplicial import *\n",
    "import gudhi as gd\n",
    "import json\n",
    "import sys"
   ]
  },
  {
   "cell_type": "code",
   "execution_count": 2,
   "metadata": {},
   "outputs": [
    {
     "name": "stdout",
     "output_type": "stream",
     "text": [
      "At time slice 0, K has critical cells [[5], [1, 2]].\n",
      "\n",
      "At time slice 0, K has gradient vector field [[[1], [1, 8]], [[8], [7, 8]], [[7], [6, 7]], [[6], [5, 6]], [[4], [4, 5]], [[3], [3, 4]], [[2], [2, 3]]].\n",
      "\n",
      "----------------------------------------------------\n",
      "\n",
      "At time slice 1, K has critical cells [[7], [4, 5]].\n",
      "\n",
      "At time slice 1, K has gradient vector field [[[1], [1, 8]], [[8], [7, 8]], [[6], [6, 7]], [[5], [5, 6]], [[4], [3, 4]], [[3], [2, 3]], [[2], [1, 2]]].\n",
      "\n",
      "----------------------------------------------------\n",
      "\n",
      "At time slice 2, K has critical cells [[5], [7], [5, 6], [1, 2]].\n",
      "\n",
      "At time slice 2, K has gradient vector field [[[1], [1, 8]], [[8], [7, 8]], [[6], [6, 7]], [[4], [4, 5]], [[3], [3, 4]], [[2], [2, 3]]].\n",
      "\n",
      "----------------------------------------------------\n",
      "\n",
      "At time slice 3, K has critical cells [[1], [5], [3, 4], [7, 8]].\n",
      "\n",
      "At time slice 3, K has gradient vector field [[[8], [1, 8]], [[7], [6, 7]], [[6], [5, 6]], [[4], [4, 5]], [[3], [2, 3]], [[2], [1, 2]]].\n",
      "\n",
      "----------------------------------------------------\n",
      "\n",
      "At time slice 4, K has critical cells [[8], [5, 6]].\n",
      "\n",
      "At time slice 4, K has gradient vector field [[[1], [1, 8]], [[7], [7, 8]], [[6], [6, 7]], [[5], [4, 5]], [[4], [3, 4]], [[3], [2, 3]], [[2], [1, 2]]].\n",
      "\n",
      "----------------------------------------------------\n",
      "\n",
      "At time slice 5, K has critical cells [[4], [7, 8]].\n",
      "\n",
      "At time slice 5, K has gradient vector field [[[8], [1, 8]], [[7], [6, 7]], [[6], [5, 6]], [[5], [4, 5]], [[3], [3, 4]], [[2], [2, 3]], [[1], [1, 2]]].\n",
      "\n",
      "----------------------------------------------------\n",
      "\n",
      "At time slice 6, K has critical cells [[1], [6], [2, 3], [7, 8]].\n",
      "\n",
      "At time slice 6, K has gradient vector field [[[8], [1, 8]], [[7], [6, 7]], [[5], [5, 6]], [[4], [4, 5]], [[3], [3, 4]], [[2], [1, 2]]].\n",
      "\n",
      "----------------------------------------------------\n",
      "\n",
      "At time slice 7, K has critical cells [[5], [4, 5]].\n",
      "\n",
      "At time slice 7, K has gradient vector field [[[1], [1, 8]], [[8], [7, 8]], [[7], [6, 7]], [[6], [5, 6]], [[4], [3, 4]], [[3], [2, 3]], [[2], [1, 2]]].\n",
      "\n",
      "----------------------------------------------------\n",
      "\n",
      "1\n",
      "Path from [5] to [7] via the subpaths [[5]] and [[5], [5, 6], [6], [6, 7], [7]].\n",
      "Path from [1, 2] to [4, 5] via the subpaths [[1, 2], [2], [2, 3], [3], [3, 4], [4], [4, 5]] and [[4, 5]].\n",
      "Path from [1, 2] to [5, 6] via the subpaths [[1, 2], [1], [1, 8], [8], [7, 8], [7], [6, 7], [6], [5, 6]] and [[5, 6]].\n",
      "Path from [1, 2] to [3, 4] via the subpaths [[1, 2], [2], [2, 3], [3], [3, 4]] and [[3, 4]].\n",
      "Path from [1, 2] to [7, 8] via the subpaths [[1, 2], [1], [1, 8], [8], [7, 8]] and [[7, 8]].\n",
      "Path from [5] to [8] via the subpaths [[5]] and [[5], [4, 5], [4], [3, 4], [3], [2, 3], [2], [1, 2], [1], [1, 8], [8]].\n",
      "Path from [1, 2] to [5, 6] via the subpaths [[1, 2], [1], [1, 8], [8], [7, 8], [7], [6, 7], [6], [5, 6]] and [[5, 6]].\n",
      "Path from [5] to [4] via the subpaths [[5]] and [[5], [4, 5], [4]].\n",
      "Path from [1, 2] to [7, 8] via the subpaths [[1, 2], [1], [1, 8], [8], [7, 8]] and [[7, 8]].\n",
      "Path from [5] to [6] via the subpaths [[5]] and [[5], [5, 6], [6]].\n",
      "Path from [1, 2] to [2, 3] via the subpaths [[1, 2], [2], [2, 3]] and [[2, 3]].\n",
      "Path from [1, 2] to [7, 8] via the subpaths [[1, 2], [1], [1, 8], [8], [7, 8]] and [[7, 8]].\n",
      "Path from [1, 2] to [4, 5] via the subpaths [[1, 2], [2], [2, 3], [3], [3, 4], [4], [4, 5]] and [[4, 5]].\n",
      "Path from [7] to [5] via the subpaths [[7]] and [[7], [6, 7], [6], [5, 6], [5]].\n",
      "Path from [4, 5] to [1, 2] via the subpaths [[4, 5], [4], [3, 4], [3], [2, 3], [2], [1, 2]] and [[1, 2]].\n",
      "Path from [4, 5] to [5, 6] via the subpaths [[4, 5], [5], [5, 6]] and [[5, 6]].\n",
      "Path from [4, 5] to [1, 2] via the subpaths [[4, 5], [4], [3, 4], [3], [2, 3], [2], [1, 2]] and [[1, 2]].\n",
      "Path from [7] to [5] via the subpaths [[7]] and [[7], [6, 7], [6], [5, 6], [5]].\n",
      "Path from [4, 5] to [3, 4] via the subpaths [[4, 5], [4], [3, 4]] and [[3, 4]].\n",
      "Path from [4, 5] to [7, 8] via the subpaths [[4, 5], [4], [3, 4], [3], [2, 3], [2], [1, 2], [1], [1, 8], [8], [7, 8]] and [[7, 8]].\n",
      "Path from [7] to [8] via the subpaths [[7]] and [[7], [7, 8], [8]].\n",
      "Path from [4, 5] to [5, 6] via the subpaths [[4, 5], [5], [5, 6]] and [[5, 6]].\n",
      "Path from [7] to [4] via the subpaths [[7]] and [[7], [6, 7], [6], [5, 6], [5], [4, 5], [4]].\n",
      "Path from [4, 5] to [7, 8] via the subpaths [[4, 5], [4], [3, 4], [3], [2, 3], [2], [1, 2], [1], [1, 8], [8], [7, 8]] and [[7, 8]].\n",
      "Path from [7] to [6] via the subpaths [[7]] and [[7], [6, 7], [6]].\n",
      "Path from [4, 5] to [2, 3] via the subpaths [[4, 5], [4], [3, 4], [3], [2, 3]] and [[2, 3]].\n",
      "Path from [4, 5] to [7, 8] via the subpaths [[4, 5], [4], [3, 4], [3], [2, 3], [2], [1, 2], [1], [1, 8], [8], [7, 8]] and [[7, 8]].\n",
      "Path from [7] to [5] via the subpaths [[7]] and [[7], [6, 7], [6], [5, 6], [5]].\n",
      "Path from [7] to [5] via the subpaths [[7]] and [[7], [6, 7], [6], [5, 6], [5]].\n",
      "Path from [5] to [7] via the subpaths [[5]] and [[5], [5, 6], [6], [6, 7], [7]].\n",
      "Path from [1, 2] to [4, 5] via the subpaths [[1, 2], [2], [2, 3], [3], [3, 4], [4], [4, 5]] and [[4, 5]].\n",
      "Path from [7] to [5] via the subpaths [[7]] and [[7], [6, 7], [6], [5, 6], [5]].\n",
      "Path from [1, 2] to [3, 4] via the subpaths [[1, 2], [2], [2, 3], [3], [3, 4]] and [[3, 4]].\n",
      "Path from [1, 2] to [7, 8] via the subpaths [[1, 2], [1], [1, 8], [8], [7, 8]] and [[7, 8]].\n",
      "Path from [5] to [8] via the subpaths [[5]] and [[5], [4, 5], [4], [3, 4], [3], [2, 3], [2], [1, 2], [1], [1, 8], [8]].\n",
      "Path from [7] to [8] via the subpaths [[7]] and [[7], [7, 8], [8]].\n",
      "Path from [5] to [4] via the subpaths [[5]] and [[5], [4, 5], [4]].\n",
      "Path from [7] to [4] via the subpaths [[7]] and [[7], [6, 7], [6], [5, 6], [5], [4, 5], [4]].\n",
      "Path from [1, 2] to [7, 8] via the subpaths [[1, 2], [1], [1, 8], [8], [7, 8]] and [[7, 8]].\n",
      "Path from [5] to [6] via the subpaths [[5]] and [[5], [5, 6], [6]].\n",
      "Path from [7] to [6] via the subpaths [[7]] and [[7], [6, 7], [6]].\n",
      "Path from [1, 2] to [2, 3] via the subpaths [[1, 2], [2], [2, 3]] and [[2, 3]].\n",
      "Path from [1, 2] to [7, 8] via the subpaths [[1, 2], [1], [1, 8], [8], [7, 8]] and [[7, 8]].\n",
      "Path from [7] to [5] via the subpaths [[7]] and [[7], [6, 7], [6], [5, 6], [5]].\n",
      "Path from [1, 2] to [4, 5] via the subpaths [[1, 2], [2], [2, 3], [3], [3, 4], [4], [4, 5]] and [[4, 5]].\n",
      "Path from [1] to [5] via the subpaths [[1]] and [[1], [1, 8], [8], [7, 8], [7], [6, 7], [6], [5, 6], [5]].\n",
      "Path from [3, 4] to [1, 2] via the subpaths [[3, 4], [3], [2, 3], [2], [1, 2]] and [[1, 2]].\n",
      "Path from [1] to [7] via the subpaths [[1]] and [[1], [1, 8], [8], [7, 8], [7]].\n",
      "Path from [5] to [7] via the subpaths [[5]] and [[5], [5, 6], [6], [6, 7], [7]].\n",
      "Path from [3, 4] to [4, 5] via the subpaths [[3, 4], [4], [4, 5]] and [[4, 5]].\n",
      "Path from [1] to [7] via the subpaths [[1]] and [[1], [1, 8], [8], [7, 8], [7]].\n",
      "Path from [3, 4] to [1, 2] via the subpaths [[3, 4], [3], [2, 3], [2], [1, 2]] and [[1, 2]].\n",
      "Path from [7, 8] to [5, 6] via the subpaths [[7, 8], [7], [6, 7], [6], [5, 6]] and [[5, 6]].\n",
      "Path from [1] to [8] via the subpaths [[1]] and [[1], [1, 8], [8]].\n",
      "Path from [5] to [8] via the subpaths [[5]] and [[5], [4, 5], [4], [3, 4], [3], [2, 3], [2], [1, 2], [1], [1, 8], [8]].\n",
      "Path from [7, 8] to [5, 6] via the subpaths [[7, 8], [7], [6, 7], [6], [5, 6]] and [[5, 6]].\n",
      "Path from [1] to [4] via the subpaths [[1]] and [[1], [1, 2], [2], [2, 3], [3], [3, 4], [4]].\n",
      "Path from [5] to [4] via the subpaths [[5]] and [[5], [4, 5], [4]].\n",
      "Path from [5] to [6] via the subpaths [[5]] and [[5], [5, 6], [6]].\n",
      "Path from [3, 4] to [2, 3] via the subpaths [[3, 4], [3], [2, 3]] and [[2, 3]].\n",
      "Path from [1] to [5] via the subpaths [[1]] and [[1], [1, 8], [8], [7, 8], [7], [6, 7], [6], [5, 6], [5]].\n",
      "Path from [3, 4] to [4, 5] via the subpaths [[3, 4], [4], [4, 5]] and [[4, 5]].\n",
      "Path from [8] to [5] via the subpaths [[8]] and [[8], [7, 8], [7], [6, 7], [6], [5, 6], [5]].\n",
      "Path from [5, 6] to [1, 2] via the subpaths [[5, 6], [5], [4, 5], [4], [3, 4], [3], [2, 3], [2], [1, 2]] and [[1, 2]].\n",
      "Path from [8] to [7] via the subpaths [[8]] and [[8], [7, 8], [7]].\n",
      "Path from [5, 6] to [4, 5] via the subpaths [[5, 6], [5], [4, 5]] and [[4, 5]].\n",
      "Path from [8] to [7] via the subpaths [[8]] and [[8], [7, 8], [7]].\n",
      "Path from [5, 6] to [1, 2] via the subpaths [[5, 6], [5], [4, 5], [4], [3, 4], [3], [2, 3], [2], [1, 2]] and [[1, 2]].\n",
      "Path from [8] to [1] via the subpaths [[8]] and [[8], [1, 8], [1]].\n",
      "Path from [5, 6] to [3, 4] via the subpaths [[5, 6], [5], [4, 5], [4], [3, 4]] and [[3, 4]].\n",
      "Path from [5, 6] to [7, 8] via the subpaths [[5, 6], [6], [6, 7], [7], [7, 8]] and [[7, 8]].\n",
      "Path from [8] to [4] via the subpaths [[8]] and [[8], [1, 8], [1], [1, 2], [2], [2, 3], [3], [3, 4], [4]].\n",
      "Path from [5, 6] to [7, 8] via the subpaths [[5, 6], [6], [6, 7], [7], [7, 8]] and [[7, 8]].\n",
      "Path from [8] to [1] via the subpaths [[8]] and [[8], [1, 8], [1]].\n",
      "Path from [5, 6] to [2, 3] via the subpaths [[5, 6], [5], [4, 5], [4], [3, 4], [3], [2, 3]] and [[2, 3]].\n",
      "Path from [5, 6] to [7, 8] via the subpaths [[5, 6], [6], [6, 7], [7], [7, 8]] and [[7, 8]].\n",
      "Path from [8] to [5] via the subpaths [[8]] and [[8], [7, 8], [7], [6, 7], [6], [5, 6], [5]].\n",
      "Path from [5, 6] to [4, 5] via the subpaths [[5, 6], [5], [4, 5]] and [[4, 5]].\n",
      "Path from [4] to [5] via the subpaths [[4]] and [[4], [4, 5], [5]].\n",
      "Path from [7, 8] to [1, 2] via the subpaths [[7, 8], [8], [1, 8], [1], [1, 2]] and [[1, 2]].\n",
      "Path from [4] to [7] via the subpaths [[4]] and [[4], [3, 4], [3], [2, 3], [2], [1, 2], [1], [1, 8], [8], [7, 8], [7]].\n",
      "Path from [7, 8] to [4, 5] via the subpaths [[7, 8], [7], [6, 7], [6], [5, 6], [5], [4, 5]] and [[4, 5]].\n",
      "Path from [4] to [5] via the subpaths [[4]] and [[4], [4, 5], [5]].\n",
      "Path from [7, 8] to [5, 6] via the subpaths [[7, 8], [7], [6, 7], [6], [5, 6]] and [[5, 6]].\n",
      "Path from [7, 8] to [1, 2] via the subpaths [[7, 8], [8], [1, 8], [1], [1, 2]] and [[1, 2]].\n",
      "Path from [4] to [5] via the subpaths [[4]] and [[4], [4, 5], [5]].\n",
      "Path from [7, 8] to [3, 4] via the subpaths [[7, 8], [8], [1, 8], [1], [1, 2], [2], [2, 3], [3], [3, 4]] and [[3, 4]].\n",
      "Path from [4] to [8] via the subpaths [[4]] and [[4], [3, 4], [3], [2, 3], [2], [1, 2], [1], [1, 8], [8]].\n",
      "Path from [7, 8] to [5, 6] via the subpaths [[7, 8], [7], [6, 7], [6], [5, 6]] and [[5, 6]].\n",
      "Path from [4] to [6] via the subpaths [[4]] and [[4], [4, 5], [5], [5, 6], [6]].\n",
      "Path from [7, 8] to [2, 3] via the subpaths [[7, 8], [8], [1, 8], [1], [1, 2], [2], [2, 3]] and [[2, 3]].\n",
      "Path from [4] to [5] via the subpaths [[4]] and [[4], [3, 4], [3], [2, 3], [2], [1, 2], [1], [1, 8], [8], [7, 8], [7], [6, 7], [6], [5, 6], [5]].\n",
      "Path from [7, 8] to [4, 5] via the subpaths [[7, 8], [7], [6, 7], [6], [5, 6], [5], [4, 5]] and [[4, 5]].\n",
      "Path from [1] to [5] via the subpaths [[1]] and [[1], [1, 8], [8], [7, 8], [7], [6, 7], [6], [5, 6], [5]].\n",
      "Path from [6] to [5] via the subpaths [[6]] and [[6], [5, 6], [5]].\n",
      "Path from [2, 3] to [1, 2] via the subpaths [[2, 3], [2], [1, 2]] and [[1, 2]].\n",
      "Path from [1] to [7] via the subpaths [[1]] and [[1], [1, 8], [8], [7, 8], [7]].\n",
      "Path from [6] to [7] via the subpaths [[6]] and [[6], [6, 7], [7]].\n",
      "Path from [2, 3] to [4, 5] via the subpaths [[2, 3], [3], [3, 4], [4], [4, 5]] and [[4, 5]].\n",
      "Path from [1] to [7] via the subpaths [[1]] and [[1], [1, 8], [8], [7, 8], [7]].\n",
      "Path from [6] to [7] via the subpaths [[6]] and [[6], [6, 7], [7]].\n",
      "Path from [2, 3] to [5, 6] via the subpaths [[2, 3], [3], [3, 4], [4], [4, 5], [5], [5, 6]] and [[5, 6]].\n",
      "Path from [2, 3] to [1, 2] via the subpaths [[2, 3], [2], [1, 2]] and [[1, 2]].\n",
      "Path from [6] to [5] via the subpaths [[6]] and [[6], [5, 6], [5]].\n",
      "Path from [2, 3] to [3, 4] via the subpaths [[2, 3], [3], [3, 4]] and [[3, 4]].\n",
      "Path from [1] to [8] via the subpaths [[1]] and [[1], [1, 8], [8]].\n",
      "Path from [6] to [8] via the subpaths [[6]] and [[6], [6, 7], [7], [7, 8], [8]].\n",
      "Path from [2, 3] to [5, 6] via the subpaths [[2, 3], [3], [3, 4], [4], [4, 5], [5], [5, 6]] and [[5, 6]].\n",
      "Path from [1] to [4] via the subpaths [[1]] and [[1], [1, 2], [2], [2, 3], [3], [3, 4], [4]].\n",
      "Path from [6] to [4] via the subpaths [[6]] and [[6], [5, 6], [5], [4, 5], [4]].\n",
      "Path from [1] to [5] via the subpaths [[1]] and [[1], [1, 8], [8], [7, 8], [7], [6, 7], [6], [5, 6], [5]].\n",
      "Path from [6] to [5] via the subpaths [[6]] and [[6], [5, 6], [5]].\n",
      "Path from [2, 3] to [4, 5] via the subpaths [[2, 3], [3], [3, 4], [4], [4, 5]] and [[4, 5]].\n",
      "Path from [4, 5] to [1, 2] via the subpaths [[4, 5], [4], [3, 4], [3], [2, 3], [2], [1, 2]] and [[1, 2]].\n",
      "Path from [5] to [7] via the subpaths [[5]] and [[5], [5, 6], [6], [6, 7], [7]].\n",
      "Path from [4, 5] to [5, 6] via the subpaths [[4, 5], [4], [3, 4], [3], [2, 3], [2], [1, 2], [1], [1, 8], [8], [7, 8], [7], [6, 7], [6], [5, 6]] and [[5, 6]].\n",
      "Path from [4, 5] to [1, 2] via the subpaths [[4, 5], [4], [3, 4], [3], [2, 3], [2], [1, 2]] and [[1, 2]].\n",
      "Path from [4, 5] to [3, 4] via the subpaths [[4, 5], [4], [3, 4]] and [[3, 4]].\n",
      "Path from [4, 5] to [7, 8] via the subpaths [[4, 5], [4], [3, 4], [3], [2, 3], [2], [1, 2], [1], [1, 8], [8], [7, 8]] and [[7, 8]].\n",
      "Path from [5] to [8] via the subpaths [[5]] and [[5], [4, 5], [4], [3, 4], [3], [2, 3], [2], [1, 2], [1], [1, 8], [8]].\n",
      "Path from [4, 5] to [5, 6] via the subpaths [[4, 5], [4], [3, 4], [3], [2, 3], [2], [1, 2], [1], [1, 8], [8], [7, 8], [7], [6, 7], [6], [5, 6]] and [[5, 6]].\n",
      "Path from [5] to [4] via the subpaths [[5]] and [[5], [4, 5], [4]].\n",
      "Path from [4, 5] to [7, 8] via the subpaths [[4, 5], [4], [3, 4], [3], [2, 3], [2], [1, 2], [1], [1, 8], [8], [7, 8]] and [[7, 8]].\n",
      "Path from [5] to [6] via the subpaths [[5]] and [[5], [5, 6], [6]].\n",
      "Path from [4, 5] to [2, 3] via the subpaths [[4, 5], [4], [3, 4], [3], [2, 3]] and [[2, 3]].\n",
      "Path from [4, 5] to [7, 8] via the subpaths [[4, 5], [4], [3, 4], [3], [2, 3], [2], [1, 2], [1], [1, 8], [8], [7, 8]] and [[7, 8]].\n",
      "All connected pairs of critical cells across time slices are : [[[5], [7], 0, 1], [[1, 2], [4, 5], 0, 1], [[1, 2], [5, 6], 0, 2], [[1, 2], [3, 4], 0, 3], [[1, 2], [7, 8], 0, 3], [[5], [8], 0, 4], [[1, 2], [5, 6], 0, 4], [[5], [4], 0, 5], [[1, 2], [7, 8], 0, 5], [[5], [6], 0, 6], [[1, 2], [2, 3], 0, 6], [[1, 2], [7, 8], 0, 6], [[1, 2], [4, 5], 0, 7], [[7], [5], 1, 0], [[4, 5], [1, 2], 1, 0], [[4, 5], [5, 6], 1, 2], [[4, 5], [1, 2], 1, 2], [[7], [5], 1, 3], [[4, 5], [3, 4], 1, 3], [[4, 5], [7, 8], 1, 3], [[7], [8], 1, 4], [[4, 5], [5, 6], 1, 4], [[7], [4], 1, 5], [[4, 5], [7, 8], 1, 5], [[7], [6], 1, 6], [[4, 5], [2, 3], 1, 6], [[4, 5], [7, 8], 1, 6], [[7], [5], 1, 7], [[7], [5], 2, 0], [[5], [7], 2, 1], [[1, 2], [4, 5], 2, 1], [[7], [5], 2, 3], [[1, 2], [3, 4], 2, 3], [[1, 2], [7, 8], 2, 3], [[5], [8], 2, 4], [[7], [8], 2, 4], [[5], [4], 2, 5], [[7], [4], 2, 5], [[1, 2], [7, 8], 2, 5], [[5], [6], 2, 6], [[7], [6], 2, 6], [[1, 2], [2, 3], 2, 6], [[1, 2], [7, 8], 2, 6], [[7], [5], 2, 7], [[1, 2], [4, 5], 2, 7], [[1], [5], 3, 0], [[3, 4], [1, 2], 3, 0], [[1], [7], 3, 1], [[5], [7], 3, 1], [[3, 4], [4, 5], 3, 1], [[1], [7], 3, 2], [[3, 4], [1, 2], 3, 2], [[7, 8], [5, 6], 3, 2], [[1], [8], 3, 4], [[5], [8], 3, 4], [[7, 8], [5, 6], 3, 4], [[1], [4], 3, 5], [[5], [4], 3, 5], [[5], [6], 3, 6], [[3, 4], [2, 3], 3, 6], [[1], [5], 3, 7], [[3, 4], [4, 5], 3, 7], [[8], [5], 4, 0], [[5, 6], [1, 2], 4, 0], [[8], [7], 4, 1], [[5, 6], [4, 5], 4, 1], [[8], [7], 4, 2], [[5, 6], [1, 2], 4, 2], [[8], [1], 4, 3], [[5, 6], [3, 4], 4, 3], [[5, 6], [7, 8], 4, 3], [[8], [4], 4, 5], [[5, 6], [7, 8], 4, 5], [[8], [1], 4, 6], [[5, 6], [2, 3], 4, 6], [[5, 6], [7, 8], 4, 6], [[8], [5], 4, 7], [[5, 6], [4, 5], 4, 7], [[4], [5], 5, 0], [[7, 8], [1, 2], 5, 0], [[4], [7], 5, 1], [[7, 8], [4, 5], 5, 1], [[4], [5], 5, 2], [[7, 8], [5, 6], 5, 2], [[7, 8], [1, 2], 5, 2], [[4], [5], 5, 3], [[7, 8], [3, 4], 5, 3], [[4], [8], 5, 4], [[7, 8], [5, 6], 5, 4], [[4], [6], 5, 6], [[7, 8], [2, 3], 5, 6], [[4], [5], 5, 7], [[7, 8], [4, 5], 5, 7], [[1], [5], 6, 0], [[6], [5], 6, 0], [[2, 3], [1, 2], 6, 0], [[1], [7], 6, 1], [[6], [7], 6, 1], [[2, 3], [4, 5], 6, 1], [[1], [7], 6, 2], [[6], [7], 6, 2], [[2, 3], [5, 6], 6, 2], [[2, 3], [1, 2], 6, 2], [[6], [5], 6, 3], [[2, 3], [3, 4], 6, 3], [[1], [8], 6, 4], [[6], [8], 6, 4], [[2, 3], [5, 6], 6, 4], [[1], [4], 6, 5], [[6], [4], 6, 5], [[1], [5], 6, 7], [[6], [5], 6, 7], [[2, 3], [4, 5], 6, 7], [[4, 5], [1, 2], 7, 0], [[5], [7], 7, 1], [[4, 5], [5, 6], 7, 2], [[4, 5], [1, 2], 7, 2], [[4, 5], [3, 4], 7, 3], [[4, 5], [7, 8], 7, 3], [[5], [8], 7, 4], [[4, 5], [5, 6], 7, 4], [[5], [4], 7, 5], [[4, 5], [7, 8], 7, 5], [[5], [6], 7, 6], [[4, 5], [2, 3], 7, 6], [[4, 5], [7, 8], 7, 6]].\n",
      "\n"
     ]
    }
   ],
   "source": [
    "from DMT import *"
   ]
  },
  {
   "cell_type": "markdown",
   "metadata": {},
   "source": [
    "## First part : discrete Morse theory"
   ]
  },
  {
   "cell_type": "markdown",
   "metadata": {},
   "source": [
    "We run the example of the paper <i>Persistent Homology of Unweighted\n",
    "Complex Networks via Discrete\n",
    "Morse Theory</i>."
   ]
  },
  {
   "cell_type": "markdown",
   "metadata": {},
   "source": [
    "#### Initialization of the simplicial complex $K$\n",
    "We build a simplicial complex $K$ by storing its edges (and nodes), and adding clique completion up to dimension 2, <i>i.e.</i> we complete all triangles. Then, we define a label function $g:K^{(0)}\\rightarrow \\mathbb{R}$ on the nodes of $K$ (where $K^{(0)}$ denotes the $0$-skeleton of $K$, <i>i.e.</i> its nodes)."
   ]
  },
  {
   "cell_type": "code",
   "execution_count": 24,
   "metadata": {},
   "outputs": [],
   "source": [
    "K = gd.SimplexTree()\n",
    "\n",
    "edges = [[0,1],[7,0],[1,7],[1,2],[2,3],[4,2],[2,5],[3,4],[5,7],[6,7],[7,8]]\n",
    "\n",
    "for e in edges:\n",
    "    K.insert(e)\n",
    "K.expansion(2)\n",
    "\n",
    "d = 2\n",
    "\n",
    "g = {\"[0]\": 3.1,\n",
    "     \"[1]\": 2.1,\n",
    "     \"[2]\": 1.1,\n",
    "     \"[3]\": 3.2,\n",
    "     \"[4]\": 3.3,\n",
    "     \"[5]\": 3.4,\n",
    "     \"[6]\": 4.1,\n",
    "     \"[7]\": 0.1,\n",
    "     \"[8]\": 4.3\n",
    "     }"
   ]
  },
  {
   "cell_type": "markdown",
   "metadata": {},
   "source": [
    "#### Generating a discrete Morse function f on K\n",
    "The next step is to extend the label function $g:K^{(0)}\\rightarrow \\mathbb{R}$ to a discrete Morse function $f:K\\rightarrow \\mathbb{R}$ (as introduced by R. Forman), via the algorithm designed in the paper mentioned above, called <i>Persistent Homology of Unweighted\n",
    "Complex Networks via Discrete\n",
    "Morse Theory</i>."
   ]
  },
  {
   "cell_type": "code",
   "execution_count": 25,
   "metadata": {},
   "outputs": [],
   "source": [
    "f = build_morse_function(K, d, g)[0]"
   ]
  },
  {
   "cell_type": "code",
   "execution_count": 26,
   "metadata": {},
   "outputs": [
    {
     "name": "stdout",
     "output_type": "stream",
     "text": [
      "{'[0]': 3.1, '[1]': 2.1, '[2]': 1.1, '[3]': 3.2, '[4]': 3.3, '[5]': 3.4, '[6]': 4.1, '[7]': 0.1, '[8]': 4.3, '[0, 1]': 2.6, '[0, 7]': 3.571806243017261, '[1, 2]': 1.6, '[1, 7]': 2.3703675243227256, '[2, 3]': 2.1500000000000004, '[2, 4]': 2.2, '[2, 5]': 2.25, '[3, 4]': 3.450650308001466, '[5, 7]': 3.515279091500119, '[6, 7]': 2.0999999999999996, '[7, 8]': 2.1999999999999997, '[0, 1, 7]': 3.0859031215086308, '[2, 3, 4]': 2.8253251540007334}\n"
     ]
    }
   ],
   "source": [
    "print(f)"
   ]
  },
  {
   "cell_type": "markdown",
   "metadata": {},
   "source": [
    "#### Checking if the above function on K is indeed a discrete Morse function\n",
    "We implemented a function called ```check_Morse()``` designed to check whether, for a given pair $(K,f)$, the function $f:K\\rightarrow \\mathbb{R}$ is indeed a discrete Morse function on $K$. Concretely speaking, the function simply checks whether the axioms in the definition of discrete Morse function are satisfied."
   ]
  },
  {
   "cell_type": "code",
   "execution_count": 5,
   "metadata": {},
   "outputs": [
    {
     "name": "stdout",
     "output_type": "stream",
     "text": [
      "True\n"
     ]
    }
   ],
   "source": [
    "print(check_Morse(K, f))"
   ]
  },
  {
   "cell_type": "markdown",
   "metadata": {},
   "source": [
    "### Printing down the critical cells\n",
    "The function ```critical_cells(K,f)``` returns the list of all critical cells of the pair $(K,f)$, given in order of increasing dimension. In this example, we obtain two $0$-critical cells (nodes $2$ and $7$) and two $1$-critical cells (edges $(1,7)$ and $(5,7)$)."
   ]
  },
  {
   "cell_type": "code",
   "execution_count": 6,
   "metadata": {},
   "outputs": [
    {
     "name": "stdout",
     "output_type": "stream",
     "text": [
      "[[2], [7], [1, 7], [5, 7]]\n"
     ]
    }
   ],
   "source": [
    "print(critical_cells(K, f))"
   ]
  },
  {
   "cell_type": "markdown",
   "metadata": {},
   "source": [
    "#### Printing down the gradient vector field V of (K,f)\n",
    "The function ```gradient(K,f)``` returns the gradient vector field $V$ of $(K,f)$, as a list of pairs of regular (non-critical) cells, interpreted as arrows."
   ]
  },
  {
   "cell_type": "code",
   "execution_count": 8,
   "metadata": {},
   "outputs": [
    {
     "name": "stdout",
     "output_type": "stream",
     "text": [
      "[[[0, 7], [0, 1, 7]], [[0], [0, 1]], [[1], [1, 2]], [[3, 4], [2, 3, 4]], [[3], [2, 3]], [[4], [2, 4]], [[5], [2, 5]], [[6], [6, 7]], [[8], [7, 8]]]\n"
     ]
    }
   ],
   "source": [
    "V = gradient(K, f)\n",
    "print(V)"
   ]
  },
  {
   "cell_type": "markdown",
   "metadata": {},
   "source": [
    "#### Drawing the Hasse diagram of (K,f,V)\n",
    "The Hasse diagram of the pair $(K,V)$ consists of a graph built in the following way. Its vertices are all cells of $K$. Then, directed edges are added from any cell to its codimension-$1$ faces. Finally, all edges (in an undirected way) that belong the the gradient vector field $V$ are reversed. The function ```Hasse_diagram(K,V)``` uses the ```networkX``` library to plot the Hasse diagram of our example."
   ]
  },
  {
   "cell_type": "code",
   "execution_count": 9,
   "metadata": {},
   "outputs": [
    {
     "data": {
      "image/png": "[encoded data removed]",
      "text/plain": [
       "<Figure size 432x288 with 1 Axes>"
      ]
     },
     "metadata": {},
     "output_type": "display_data"
    }
   ],
   "source": [
    "H = Hasse_diagram(K, V)\n",
    "nx.draw(H)"
   ]
  },
  {
   "cell_type": "markdown",
   "metadata": {},
   "source": [
    "#### An example of path between two cells (this is not a proper V-path, though)\n",
    "The function ```V_paths(K,V,s1,s2)``` returns possible paths between any two cells, by searching paths in the Hasse diagram."
   ]
  },
  {
   "cell_type": "code",
   "execution_count": 11,
   "metadata": {},
   "outputs": [
    {
     "name": "stdout",
     "output_type": "stream",
     "text": [
      "[[[2, 3], [2]]]\n"
     ]
    }
   ],
   "source": [
    "print(V_paths(K, V, [2,3], [2]))"
   ]
  },
  {
   "cell_type": "markdown",
   "metadata": {},
   "source": [
    "## Second part : parametric Morse theory"
   ]
  },
  {
   "cell_type": "markdown",
   "metadata": {},
   "source": [
    "### A first example : the complete graph $G=K_5$"
   ]
  },
  {
   "cell_type": "markdown",
   "metadata": {},
   "source": [
    "#### Initialization of the graph G"
   ]
  },
  {
   "cell_type": "code",
   "execution_count": 12,
   "metadata": {},
   "outputs": [],
   "source": [
    "G = nx.complete_graph(6)"
   ]
  },
  {
   "cell_type": "markdown",
   "metadata": {},
   "source": [
    "#### Pairs of connected critical cells across all time slices\n",
    "\n",
    "The function ```connecting_critical_cells(G)``` works as follows. It takes an unlabeled graph $G$ as input, initializes a simplicial complex $K$ by setting $K^{(0)}:=G$ and adding clique completion up to dimension $3$. Then, it considers label functions $g_i:K^{(0)}\\rightarrow\\mathbb{R}$ determined by a simple spectral graph theory principle (time-line is given by the increasing order of eigenvalues of the graph laplacian $L$, and labels on the nodes of $G$ at time slice $t$ are given by the coordinates of the $t$-th eigenvector of $L$). After that, it create a time-series of pairs $(K,f_i)$, where $f_i:K\\rightarrow\\mathbb{R}$ is a discrete Morse function on $K$, that was extended from the node labeling function $g_i:K^{(0)}\\rightarrow\\mathbb{R}$ via the usual algorithm.\n",
    "\n",
    "Finally, the function runs an analysis on the critical cells and gradient vector fields of all time slices, and outputs a list of all connected critical pairs across the time-line, in the sense of the paper called <i>Parametric Morse Theory</i> (2016)."
   ]
  },
  {
   "cell_type": "code",
   "execution_count": 13,
   "metadata": {},
   "outputs": [
    {
     "name": "stdout",
     "output_type": "stream",
     "text": [
      "We have a sequence of 5 complexes.\n",
      "\n",
      "At time slice 0, K has critical cells [[3], [4, 5], [3, 4, 5], [1, 2, 3, 4], [1, 2, 3, 5], [1, 2, 4, 5], [1, 3, 4, 5], [2, 3, 4, 5]].\n",
      "\n",
      "At time slice 0, K has gradient vector field [[[0, 3, 4], [0, 1, 3, 4]], [[0, 3], [0, 1, 3]], [[0, 4, 5], [0, 3, 4, 5]], [[0, 4], [0, 1, 4]], [[0], [0, 1]], [[1, 2, 3], [0, 1, 2, 3]], [[1, 2, 4], [0, 1, 2, 4]], [[1, 2, 5], [0, 1, 2, 5]], [[1, 2], [0, 1, 2]], [[1, 3, 5], [0, 1, 3, 5]], [[1, 4, 5], [0, 1, 4, 5]], [[1, 4], [1, 3, 4]], [[1, 5], [0, 1, 5]], [[1], [1, 3]], [[2, 3, 4], [0, 2, 3, 4]], [[2, 3, 5], [0, 2, 3, 5]], [[2, 3], [0, 2, 3]], [[2, 4, 5], [0, 2, 4, 5]], [[2, 4], [0, 2, 4]], [[2, 5], [0, 2, 5]], [[2], [0, 2]], [[3, 5], [0, 3, 5]], [[4], [3, 4]], [[5], [0, 5]]].\n",
      "\n",
      "----------------------------------------------------\n",
      "\n",
      "At time slice 1, K has critical cells [[5], [1, 2, 3, 4], [1, 2, 3, 5], [1, 2, 4, 5], [1, 3, 4, 5], [2, 3, 4, 5]].\n",
      "\n",
      "At time slice 1, K has gradient vector field [[[0, 5], [0, 1, 5]], [[0], [0, 1]], [[1, 2, 3], [0, 1, 2, 3]], [[1, 2, 4], [0, 1, 2, 4]], [[1, 2, 5], [0, 1, 2, 5]], [[1, 2], [0, 1, 2]], [[1, 3, 4], [0, 1, 3, 4]], [[1, 3, 5], [0, 1, 3, 5]], [[1, 3], [0, 1, 3]], [[1, 4, 5], [0, 1, 4, 5]], [[1, 4], [0, 1, 4]], [[1], [1, 5]], [[2, 3, 4], [0, 2, 3, 4]], [[2, 3, 5], [0, 2, 3, 5]], [[2, 3], [0, 2, 3]], [[2, 4, 5], [0, 2, 4, 5]], [[2, 4], [0, 2, 4]], [[2, 5], [0, 2, 5]], [[2], [0, 2]], [[3, 4, 5], [0, 3, 4, 5]], [[3, 4], [0, 3, 4]], [[3, 5], [0, 3, 5]], [[3], [0, 3]], [[4, 5], [0, 4, 5]], [[4], [0, 4]]].\n",
      "\n",
      "----------------------------------------------------\n",
      "\n",
      "At time slice 2, K has critical cells [[2], [1, 2, 3, 4], [1, 2, 3, 5], [1, 2, 4, 5], [1, 3, 4, 5], [2, 3, 4, 5]].\n",
      "\n",
      "At time slice 2, K has gradient vector field [[[0, 2, 3], [0, 1, 2, 3]], [[0, 2], [0, 1, 2]], [[0, 3], [0, 1, 3]], [[0], [0, 1]], [[1, 2, 4], [0, 1, 2, 4]], [[1, 2, 5], [0, 1, 2, 5]], [[1, 3, 4], [0, 1, 3, 4]], [[1, 3, 5], [0, 1, 3, 5]], [[1, 4, 5], [0, 1, 4, 5]], [[1, 4], [0, 1, 4]], [[1, 5], [0, 1, 5]], [[1], [1, 2]], [[2, 3, 4], [0, 2, 3, 4]], [[2, 3, 5], [0, 2, 3, 5]], [[2, 3], [1, 2, 3]], [[2, 4, 5], [0, 2, 4, 5]], [[2, 4], [0, 2, 4]], [[2, 5], [0, 2, 5]], [[3, 4, 5], [0, 3, 4, 5]], [[3, 4], [0, 3, 4]], [[3, 5], [0, 3, 5]], [[3], [1, 3]], [[4, 5], [0, 4, 5]], [[4], [0, 4]], [[5], [0, 5]]].\n",
      "\n",
      "----------------------------------------------------\n",
      "\n",
      "At time slice 3, K has critical cells [[2], [1, 2, 3, 4], [1, 2, 3, 5], [1, 2, 4, 5], [1, 3, 4, 5], [2, 3, 4, 5]].\n",
      "\n",
      "At time slice 3, K has gradient vector field [[[0, 2, 4], [0, 1, 2, 4]], [[0, 2], [0, 1, 2]], [[0, 4], [0, 1, 4]], [[0], [0, 1]], [[1, 2, 3], [0, 1, 2, 3]], [[1, 2, 5], [0, 1, 2, 5]], [[1, 3, 4], [0, 1, 3, 4]], [[1, 3, 5], [0, 1, 3, 5]], [[1, 3], [0, 1, 3]], [[1, 4, 5], [0, 1, 4, 5]], [[1, 4], [1, 2, 4]], [[1, 5], [0, 1, 5]], [[1], [1, 2]], [[2, 3, 4], [0, 2, 3, 4]], [[2, 3, 5], [0, 2, 3, 5]], [[2, 3], [0, 2, 3]], [[2, 4, 5], [0, 2, 4, 5]], [[2, 5], [0, 2, 5]], [[3, 4, 5], [0, 3, 4, 5]], [[3, 4], [0, 3, 4]], [[3, 5], [0, 3, 5]], [[3], [0, 3]], [[4, 5], [0, 4, 5]], [[4], [2, 4]], [[5], [0, 5]]].\n",
      "\n",
      "----------------------------------------------------\n",
      "\n",
      "At time slice 4, K has critical cells [[1], [0, 2, 3, 4], [0, 2, 3, 5], [0, 2, 4, 5], [0, 3, 4, 5], [2, 3, 4, 5]].\n",
      "\n",
      "At time slice 4, K has gradient vector field [[[0, 2, 3], [0, 1, 2, 3]], [[0, 2, 4], [0, 1, 2, 4]], [[0, 2, 5], [0, 1, 2, 5]], [[0, 2], [0, 1, 2]], [[0, 3, 4], [0, 1, 3, 4]], [[0, 3, 5], [0, 1, 3, 5]], [[0, 3], [0, 1, 3]], [[0, 4, 5], [0, 1, 4, 5]], [[0, 4], [0, 1, 4]], [[0, 5], [0, 1, 5]], [[0], [0, 1]], [[2, 3, 4], [1, 2, 3, 4]], [[2, 3, 5], [1, 2, 3, 5]], [[2, 3], [1, 2, 3]], [[2, 4, 5], [1, 2, 4, 5]], [[2, 4], [1, 2, 4]], [[2, 5], [1, 2, 5]], [[2], [1, 2]], [[3, 4, 5], [1, 3, 4, 5]], [[3, 4], [1, 3, 4]], [[3, 5], [1, 3, 5]], [[3], [1, 3]], [[4, 5], [1, 4, 5]], [[4], [1, 4]], [[5], [1, 5]]].\n",
      "\n",
      "----------------------------------------------------\n",
      "\n",
      "3\n",
      "Path from [3] to [5] via the subpaths [[3]] and [[3], [0, 3], [0], [0, 1], [1], [1, 5], [5]].\n",
      "Path from [3] to [2] via the subpaths [[3]] and [[3], [1, 3], [1], [1, 2], [2]].\n",
      "Path from [3] to [2] via the subpaths [[3]] and [[3], [0, 3], [0], [0, 1], [1], [1, 2], [2]].\n",
      "Path from [3] to [1] via the subpaths [[3]] and [[3], [1, 3], [1]].\n",
      "Path from [1, 2, 3, 4] to [0, 2, 3, 4] via the subpaths [[1, 2, 3, 4], [2, 3, 4], [0, 2, 3, 4]] and [[0, 2, 3, 4]].\n",
      "Path from [1, 2, 3, 5] to [0, 2, 3, 5] via the subpaths [[1, 2, 3, 5], [2, 3, 5], [0, 2, 3, 5]] and [[0, 2, 3, 5]].\n",
      "Path from [1, 2, 4, 5] to [0, 2, 4, 5] via the subpaths [[1, 2, 4, 5], [2, 4, 5], [0, 2, 4, 5]] and [[0, 2, 4, 5]].\n",
      "Path from [1, 2, 4, 5] to [0, 3, 4, 5] via the subpaths [[1, 2, 4, 5], [1, 4, 5], [0, 1, 4, 5], [0, 4, 5], [0, 3, 4, 5]] and [[0, 3, 4, 5]].\n",
      "Path from [1, 3, 4, 5] to [0, 3, 4, 5] via the subpaths [[1, 3, 4, 5], [1, 4, 5], [0, 1, 4, 5], [0, 4, 5], [0, 3, 4, 5]] and [[0, 3, 4, 5]].\n",
      "Path from [2, 3, 4, 5] to [0, 2, 3, 4] via the subpaths [[2, 3, 4, 5], [2, 3, 4], [0, 2, 3, 4]] and [[0, 2, 3, 4]].\n",
      "Path from [2, 3, 4, 5] to [0, 2, 3, 5] via the subpaths [[2, 3, 4, 5], [2, 3, 5], [0, 2, 3, 5]] and [[0, 2, 3, 5]].\n",
      "Path from [2, 3, 4, 5] to [0, 2, 4, 5] via the subpaths [[2, 3, 4, 5], [2, 4, 5], [0, 2, 4, 5]] and [[0, 2, 4, 5]].\n",
      "Path from [2, 3, 4, 5] to [0, 3, 4, 5] via the subpaths [[2, 3, 4, 5], [2, 4, 5], [0, 2, 4, 5], [0, 4, 5], [0, 3, 4, 5]] and [[0, 3, 4, 5]].\n",
      "Path from [5] to [3] via the subpaths [[5]] and [[5], [0, 5], [0], [0, 1], [1], [1, 3], [3]].\n",
      "Path from [5] to [2] via the subpaths [[5]] and [[5], [0, 5], [0], [0, 1], [1], [1, 2], [2]].\n",
      "Path from [5] to [2] via the subpaths [[5]] and [[5], [0, 5], [0], [0, 1], [1], [1, 2], [2]].\n",
      "Path from [5] to [1] via the subpaths [[5]] and [[5], [1, 5], [1]].\n",
      "Path from [1, 2, 3, 4] to [0, 2, 3, 4] via the subpaths [[1, 2, 3, 4], [2, 3, 4], [0, 2, 3, 4]] and [[0, 2, 3, 4]].\n",
      "Path from [1, 2, 3, 5] to [0, 2, 3, 5] via the subpaths [[1, 2, 3, 5], [2, 3, 5], [0, 2, 3, 5]] and [[0, 2, 3, 5]].\n",
      "Path from [1, 2, 4, 5] to [0, 2, 4, 5] via the subpaths [[1, 2, 4, 5], [2, 4, 5], [0, 2, 4, 5]] and [[0, 2, 4, 5]].\n",
      "Path from [1, 3, 4, 5] to [0, 3, 4, 5] via the subpaths [[1, 3, 4, 5], [3, 4, 5], [0, 3, 4, 5]] and [[0, 3, 4, 5]].\n",
      "Path from [2, 3, 4, 5] to [0, 2, 3, 4] via the subpaths [[2, 3, 4, 5], [2, 3, 4], [0, 2, 3, 4]] and [[0, 2, 3, 4]].\n",
      "Path from [2, 3, 4, 5] to [0, 2, 3, 5] via the subpaths [[2, 3, 4, 5], [2, 3, 5], [0, 2, 3, 5]] and [[0, 2, 3, 5]].\n",
      "Path from [2, 3, 4, 5] to [0, 2, 4, 5] via the subpaths [[2, 3, 4, 5], [2, 4, 5], [0, 2, 4, 5]] and [[0, 2, 4, 5]].\n",
      "Path from [2, 3, 4, 5] to [0, 3, 4, 5] via the subpaths [[2, 3, 4, 5], [3, 4, 5], [0, 3, 4, 5]] and [[0, 3, 4, 5]].\n",
      "Path from [2] to [3] via the subpaths [[2]] and [[2], [0, 2], [0], [0, 1], [1], [1, 3], [3]].\n",
      "Path from [2] to [5] via the subpaths [[2]] and [[2], [0, 2], [0], [0, 1], [1], [1, 5], [5]].\n",
      "Path from [2] to [1] via the subpaths [[2]] and [[2], [1, 2], [1]].\n",
      "Path from [1, 2, 3, 4] to [0, 2, 3, 4] via the subpaths [[1, 2, 3, 4], [2, 3, 4], [0, 2, 3, 4]] and [[0, 2, 3, 4]].\n",
      "Path from [1, 2, 3, 5] to [0, 2, 3, 5] via the subpaths [[1, 2, 3, 5], [2, 3, 5], [0, 2, 3, 5]] and [[0, 2, 3, 5]].\n",
      "Path from [1, 2, 4, 5] to [0, 2, 4, 5] via the subpaths [[1, 2, 4, 5], [2, 4, 5], [0, 2, 4, 5]] and [[0, 2, 4, 5]].\n",
      "Path from [1, 3, 4, 5] to [0, 3, 4, 5] via the subpaths [[1, 3, 4, 5], [3, 4, 5], [0, 3, 4, 5]] and [[0, 3, 4, 5]].\n",
      "Path from [2, 3, 4, 5] to [0, 2, 3, 4] via the subpaths [[2, 3, 4, 5], [2, 3, 4], [0, 2, 3, 4]] and [[0, 2, 3, 4]].\n",
      "Path from [2, 3, 4, 5] to [0, 2, 3, 5] via the subpaths [[2, 3, 4, 5], [2, 3, 5], [0, 2, 3, 5]] and [[0, 2, 3, 5]].\n",
      "Path from [2, 3, 4, 5] to [0, 2, 4, 5] via the subpaths [[2, 3, 4, 5], [2, 4, 5], [0, 2, 4, 5]] and [[0, 2, 4, 5]].\n",
      "Path from [2, 3, 4, 5] to [0, 3, 4, 5] via the subpaths [[2, 3, 4, 5], [3, 4, 5], [0, 3, 4, 5]] and [[0, 3, 4, 5]].\n",
      "Path from [2] to [3] via the subpaths [[2]] and [[2], [0, 2], [0], [0, 1], [1], [1, 3], [3]].\n",
      "Path from [2] to [5] via the subpaths [[2]] and [[2], [0, 2], [0], [0, 1], [1], [1, 5], [5]].\n",
      "Path from [2] to [1] via the subpaths [[2]] and [[2], [1, 2], [1]].\n",
      "Path from [1, 2, 3, 4] to [0, 2, 3, 4] via the subpaths [[1, 2, 3, 4], [2, 3, 4], [0, 2, 3, 4]] and [[0, 2, 3, 4]].\n",
      "Path from [1, 2, 3, 5] to [0, 2, 3, 5] via the subpaths [[1, 2, 3, 5], [2, 3, 5], [0, 2, 3, 5]] and [[0, 2, 3, 5]].\n",
      "Path from [1, 2, 4, 5] to [0, 2, 4, 5] via the subpaths [[1, 2, 4, 5], [2, 4, 5], [0, 2, 4, 5]] and [[0, 2, 4, 5]].\n",
      "Path from [1, 3, 4, 5] to [0, 3, 4, 5] via the subpaths [[1, 3, 4, 5], [3, 4, 5], [0, 3, 4, 5]] and [[0, 3, 4, 5]].\n",
      "Path from [2, 3, 4, 5] to [0, 2, 3, 4] via the subpaths [[2, 3, 4, 5], [2, 3, 4], [0, 2, 3, 4]] and [[0, 2, 3, 4]].\n",
      "Path from [2, 3, 4, 5] to [0, 2, 3, 5] via the subpaths [[2, 3, 4, 5], [2, 3, 5], [0, 2, 3, 5]] and [[0, 2, 3, 5]].\n",
      "Path from [2, 3, 4, 5] to [0, 2, 4, 5] via the subpaths [[2, 3, 4, 5], [2, 4, 5], [0, 2, 4, 5]] and [[0, 2, 4, 5]].\n",
      "Path from [2, 3, 4, 5] to [0, 3, 4, 5] via the subpaths [[2, 3, 4, 5], [3, 4, 5], [0, 3, 4, 5]] and [[0, 3, 4, 5]].\n",
      "Path from [1] to [3] via the subpaths [[1]] and [[1], [1, 3], [3]].\n",
      "Path from [0, 2, 3, 4] to [1, 2, 3, 4] via the subpaths [[0, 2, 3, 4], [2, 3, 4], [1, 2, 3, 4]] and [[1, 2, 3, 4]].\n",
      "Path from [0, 2, 3, 5] to [1, 2, 3, 5] via the subpaths [[0, 2, 3, 5], [2, 3, 5], [1, 2, 3, 5]] and [[1, 2, 3, 5]].\n",
      "Path from [0, 2, 4, 5] to [1, 2, 4, 5] via the subpaths [[0, 2, 4, 5], [2, 4, 5], [1, 2, 4, 5]] and [[1, 2, 4, 5]].\n",
      "Path from [0, 3, 4, 5] to [1, 3, 4, 5] via the subpaths [[0, 3, 4, 5], [3, 4, 5], [1, 3, 4, 5]] and [[1, 3, 4, 5]].\n",
      "Path from [2, 3, 4, 5] to [1, 2, 3, 4] via the subpaths [[2, 3, 4, 5], [2, 3, 4], [1, 2, 3, 4]] and [[1, 2, 3, 4]].\n",
      "Path from [2, 3, 4, 5] to [1, 2, 3, 5] via the subpaths [[2, 3, 4, 5], [2, 3, 5], [1, 2, 3, 5]] and [[1, 2, 3, 5]].\n",
      "Path from [2, 3, 4, 5] to [1, 2, 4, 5] via the subpaths [[2, 3, 4, 5], [2, 4, 5], [1, 2, 4, 5]] and [[1, 2, 4, 5]].\n",
      "Path from [2, 3, 4, 5] to [1, 3, 4, 5] via the subpaths [[2, 3, 4, 5], [3, 4, 5], [1, 3, 4, 5]] and [[1, 3, 4, 5]].\n",
      "Path from [1] to [5] via the subpaths [[1]] and [[1], [1, 5], [5]].\n",
      "Path from [0, 2, 3, 4] to [1, 2, 3, 4] via the subpaths [[0, 2, 3, 4], [2, 3, 4], [1, 2, 3, 4]] and [[1, 2, 3, 4]].\n",
      "Path from [0, 2, 3, 5] to [1, 2, 3, 5] via the subpaths [[0, 2, 3, 5], [2, 3, 5], [1, 2, 3, 5]] and [[1, 2, 3, 5]].\n",
      "Path from [0, 2, 4, 5] to [1, 2, 4, 5] via the subpaths [[0, 2, 4, 5], [2, 4, 5], [1, 2, 4, 5]] and [[1, 2, 4, 5]].\n",
      "Path from [0, 3, 4, 5] to [1, 3, 4, 5] via the subpaths [[0, 3, 4, 5], [3, 4, 5], [1, 3, 4, 5]] and [[1, 3, 4, 5]].\n",
      "Path from [2, 3, 4, 5] to [1, 2, 3, 4] via the subpaths [[2, 3, 4, 5], [2, 3, 4], [1, 2, 3, 4]] and [[1, 2, 3, 4]].\n",
      "Path from [2, 3, 4, 5] to [1, 2, 3, 5] via the subpaths [[2, 3, 4, 5], [2, 3, 5], [1, 2, 3, 5]] and [[1, 2, 3, 5]].\n",
      "Path from [2, 3, 4, 5] to [1, 2, 4, 5] via the subpaths [[2, 3, 4, 5], [2, 4, 5], [1, 2, 4, 5]] and [[1, 2, 4, 5]].\n",
      "Path from [2, 3, 4, 5] to [1, 3, 4, 5] via the subpaths [[2, 3, 4, 5], [3, 4, 5], [1, 3, 4, 5]] and [[1, 3, 4, 5]].\n",
      "Path from [1] to [2] via the subpaths [[1]] and [[1], [1, 2], [2]].\n",
      "Path from [0, 2, 3, 4] to [1, 2, 3, 4] via the subpaths [[0, 2, 3, 4], [2, 3, 4], [1, 2, 3, 4]] and [[1, 2, 3, 4]].\n",
      "Path from [0, 2, 3, 5] to [1, 2, 3, 5] via the subpaths [[0, 2, 3, 5], [2, 3, 5], [1, 2, 3, 5]] and [[1, 2, 3, 5]].\n",
      "Path from [0, 2, 4, 5] to [1, 2, 4, 5] via the subpaths [[0, 2, 4, 5], [2, 4, 5], [1, 2, 4, 5]] and [[1, 2, 4, 5]].\n",
      "Path from [0, 3, 4, 5] to [1, 3, 4, 5] via the subpaths [[0, 3, 4, 5], [3, 4, 5], [1, 3, 4, 5]] and [[1, 3, 4, 5]].\n",
      "Path from [2, 3, 4, 5] to [1, 2, 3, 4] via the subpaths [[2, 3, 4, 5], [2, 3, 4], [1, 2, 3, 4]] and [[1, 2, 3, 4]].\n",
      "Path from [2, 3, 4, 5] to [1, 2, 3, 5] via the subpaths [[2, 3, 4, 5], [2, 3, 5], [1, 2, 3, 5]] and [[1, 2, 3, 5]].\n",
      "Path from [2, 3, 4, 5] to [1, 2, 4, 5] via the subpaths [[2, 3, 4, 5], [2, 4, 5], [1, 2, 4, 5]] and [[1, 2, 4, 5]].\n",
      "Path from [2, 3, 4, 5] to [1, 3, 4, 5] via the subpaths [[2, 3, 4, 5], [3, 4, 5], [1, 3, 4, 5]] and [[1, 3, 4, 5]].\n",
      "Path from [1] to [2] via the subpaths [[1]] and [[1], [1, 2], [2]].\n",
      "Path from [0, 2, 3, 4] to [1, 2, 3, 4] via the subpaths [[0, 2, 3, 4], [2, 3, 4], [1, 2, 3, 4]] and [[1, 2, 3, 4]].\n",
      "Path from [0, 2, 3, 5] to [1, 2, 3, 5] via the subpaths [[0, 2, 3, 5], [2, 3, 5], [1, 2, 3, 5]] and [[1, 2, 3, 5]].\n",
      "Path from [0, 2, 4, 5] to [1, 2, 4, 5] via the subpaths [[0, 2, 4, 5], [2, 4, 5], [1, 2, 4, 5]] and [[1, 2, 4, 5]].\n",
      "Path from [0, 3, 4, 5] to [1, 3, 4, 5] via the subpaths [[0, 3, 4, 5], [3, 4, 5], [1, 3, 4, 5]] and [[1, 3, 4, 5]].\n",
      "Path from [2, 3, 4, 5] to [1, 2, 3, 4] via the subpaths [[2, 3, 4, 5], [2, 3, 4], [1, 2, 3, 4]] and [[1, 2, 3, 4]].\n",
      "Path from [2, 3, 4, 5] to [1, 2, 3, 5] via the subpaths [[2, 3, 4, 5], [2, 3, 5], [1, 2, 3, 5]] and [[1, 2, 3, 5]].\n",
      "Path from [2, 3, 4, 5] to [1, 2, 4, 5] via the subpaths [[2, 3, 4, 5], [2, 4, 5], [1, 2, 4, 5]] and [[1, 2, 4, 5]].\n",
      "Path from [2, 3, 4, 5] to [1, 3, 4, 5] via the subpaths [[2, 3, 4, 5], [3, 4, 5], [1, 3, 4, 5]] and [[1, 3, 4, 5]].\n",
      "All connected pairs of critical cells across time slices are : [[[3], [5], 0, 1], [[3], [2], 0, 2], [[3], [2], 0, 3], [[3], [1], 0, 4], [[1, 2, 3, 4], [0, 2, 3, 4], 0, 4], [[1, 2, 3, 5], [0, 2, 3, 5], 0, 4], [[1, 2, 4, 5], [0, 2, 4, 5], 0, 4], [[1, 2, 4, 5], [0, 3, 4, 5], 0, 4], [[1, 3, 4, 5], [0, 3, 4, 5], 0, 4], [[2, 3, 4, 5], [0, 2, 3, 4], 0, 4], [[2, 3, 4, 5], [0, 2, 3, 5], 0, 4], [[2, 3, 4, 5], [0, 2, 4, 5], 0, 4], [[2, 3, 4, 5], [0, 3, 4, 5], 0, 4], [[5], [3], 1, 0], [[5], [2], 1, 2], [[5], [2], 1, 3], [[5], [1], 1, 4], [[1, 2, 3, 4], [0, 2, 3, 4], 1, 4], [[1, 2, 3, 5], [0, 2, 3, 5], 1, 4], [[1, 2, 4, 5], [0, 2, 4, 5], 1, 4], [[1, 3, 4, 5], [0, 3, 4, 5], 1, 4], [[2, 3, 4, 5], [0, 2, 3, 4], 1, 4], [[2, 3, 4, 5], [0, 2, 3, 5], 1, 4], [[2, 3, 4, 5], [0, 2, 4, 5], 1, 4], [[2, 3, 4, 5], [0, 3, 4, 5], 1, 4], [[2], [3], 2, 0], [[2], [5], 2, 1], [[2], [1], 2, 4], [[1, 2, 3, 4], [0, 2, 3, 4], 2, 4], [[1, 2, 3, 5], [0, 2, 3, 5], 2, 4], [[1, 2, 4, 5], [0, 2, 4, 5], 2, 4], [[1, 3, 4, 5], [0, 3, 4, 5], 2, 4], [[2, 3, 4, 5], [0, 2, 3, 4], 2, 4], [[2, 3, 4, 5], [0, 2, 3, 5], 2, 4], [[2, 3, 4, 5], [0, 2, 4, 5], 2, 4], [[2, 3, 4, 5], [0, 3, 4, 5], 2, 4], [[2], [3], 3, 0], [[2], [5], 3, 1], [[2], [1], 3, 4], [[1, 2, 3, 4], [0, 2, 3, 4], 3, 4], [[1, 2, 3, 5], [0, 2, 3, 5], 3, 4], [[1, 2, 4, 5], [0, 2, 4, 5], 3, 4], [[1, 3, 4, 5], [0, 3, 4, 5], 3, 4], [[2, 3, 4, 5], [0, 2, 3, 4], 3, 4], [[2, 3, 4, 5], [0, 2, 3, 5], 3, 4], [[2, 3, 4, 5], [0, 2, 4, 5], 3, 4], [[2, 3, 4, 5], [0, 3, 4, 5], 3, 4], [[1], [3], 4, 0], [[0, 2, 3, 4], [1, 2, 3, 4], 4, 0], [[0, 2, 3, 5], [1, 2, 3, 5], 4, 0], [[0, 2, 4, 5], [1, 2, 4, 5], 4, 0], [[0, 3, 4, 5], [1, 3, 4, 5], 4, 0], [[2, 3, 4, 5], [1, 2, 3, 4], 4, 0], [[2, 3, 4, 5], [1, 2, 3, 5], 4, 0], [[2, 3, 4, 5], [1, 2, 4, 5], 4, 0], [[2, 3, 4, 5], [1, 3, 4, 5], 4, 0], [[1], [5], 4, 1], [[0, 2, 3, 4], [1, 2, 3, 4], 4, 1], [[0, 2, 3, 5], [1, 2, 3, 5], 4, 1], [[0, 2, 4, 5], [1, 2, 4, 5], 4, 1], [[0, 3, 4, 5], [1, 3, 4, 5], 4, 1], [[2, 3, 4, 5], [1, 2, 3, 4], 4, 1], [[2, 3, 4, 5], [1, 2, 3, 5], 4, 1], [[2, 3, 4, 5], [1, 2, 4, 5], 4, 1], [[2, 3, 4, 5], [1, 3, 4, 5], 4, 1], [[1], [2], 4, 2], [[0, 2, 3, 4], [1, 2, 3, 4], 4, 2], [[0, 2, 3, 5], [1, 2, 3, 5], 4, 2], [[0, 2, 4, 5], [1, 2, 4, 5], 4, 2], [[0, 3, 4, 5], [1, 3, 4, 5], 4, 2], [[2, 3, 4, 5], [1, 2, 3, 4], 4, 2], [[2, 3, 4, 5], [1, 2, 3, 5], 4, 2], [[2, 3, 4, 5], [1, 2, 4, 5], 4, 2], [[2, 3, 4, 5], [1, 3, 4, 5], 4, 2], [[1], [2], 4, 3], [[0, 2, 3, 4], [1, 2, 3, 4], 4, 3], [[0, 2, 3, 5], [1, 2, 3, 5], 4, 3], [[0, 2, 4, 5], [1, 2, 4, 5], 4, 3], [[0, 3, 4, 5], [1, 3, 4, 5], 4, 3], [[2, 3, 4, 5], [1, 2, 3, 4], 4, 3], [[2, 3, 4, 5], [1, 2, 3, 5], 4, 3], [[2, 3, 4, 5], [1, 2, 4, 5], 4, 3], [[2, 3, 4, 5], [1, 3, 4, 5], 4, 3]].\n",
      "\n"
     ]
    }
   ],
   "source": [
    "connecting_critical_cells(G)"
   ]
  },
  {
   "cell_type": "markdown",
   "metadata": {},
   "source": [
    "### A second example : a simple stochastic block model"
   ]
  },
  {
   "cell_type": "markdown",
   "metadata": {},
   "source": [
    "#### Initialization of the graph $G_2$"
   ]
  },
  {
   "cell_type": "code",
   "execution_count": 17,
   "metadata": {},
   "outputs": [],
   "source": [
    "from scipy.stats import bernoulli\n",
    "\n",
    "def stochastic_2block_model(n,p,q):\n",
    "    \n",
    "    if (n % 2) != 0:\n",
    "        print(\"Please take an even integer n.\")\n",
    "        return 0\n",
    "    \n",
    "    G = nx.Graph()\n",
    "    G.add_nodes_from(range(n))\n",
    "    for i in range(int(n/2)):\n",
    "        for j in range(int(n/2)):\n",
    "            if i!=j and bernoulli.rvs(p):\n",
    "                G.add_edge(i,j)\n",
    "    for i in range(int(n/2),n):\n",
    "        for j in range(int(n/2),n):\n",
    "            if i!=j and bernoulli.rvs(p):\n",
    "                G.add_edge(i,j)\n",
    "    for i in range(int(n/2)):\n",
    "        for j in range(int(n/2),n):\n",
    "            if i!=j and bernoulli.rvs(q):\n",
    "                G.add_edge(i,j)\n",
    "    return G"
   ]
  },
  {
   "cell_type": "code",
   "execution_count": 18,
   "metadata": {},
   "outputs": [
    {
     "data": {
      "image/png": "[encoded data removed]",
      "text/plain": [
       "<Figure size 432x288 with 1 Axes>"
      ]
     },
     "metadata": {},
     "output_type": "display_data"
    }
   ],
   "source": [
    "G2 = stochastic_2block_model(14,0.7,0.05)\n",
    "nx.draw(G2)"
   ]
  },
  {
   "cell_type": "markdown",
   "metadata": {},
   "source": [
    "Some question : given a stochastic block model $G_2$, is its Hasse diagram (as introduced above) also a stochastic block model? And if so, is it possible to establish a link between the probability parameters $G_2$ and the probability parameters of the Hasse diagram."
   ]
  },
  {
   "cell_type": "code",
   "execution_count": 19,
   "metadata": {},
   "outputs": [
    {
     "name": "stdout",
     "output_type": "stream",
     "text": [
      "We have a sequence of 12 complexes.\n",
      "\n",
      "At time slice 0, K has critical cells [[0], [2], [1, 11], [2, 4], [7, 10], [7, 11], [12, 13], [1, 4, 5], [2, 4, 6], [7, 9, 10], [8, 9, 11], [8, 11, 12], [9, 11, 13], [10, 12, 13], [1, 3, 4, 5], [1, 3, 4, 6], [1, 3, 5, 6], [1, 4, 5, 6], [2, 3, 4, 5], [2, 3, 4, 6], [2, 4, 5, 6], [3, 4, 5, 6], [7, 9, 11, 13], [7, 10, 12, 13], [8, 9, 10, 11], [8, 9, 10, 12], [8, 9, 10, 13], [8, 9, 11, 12], [8, 9, 11, 13], [8, 9, 12, 13], [8, 10, 11, 12], [8, 10, 11, 13], [8, 10, 12, 13], [8, 11, 12, 13], [9, 10, 11, 12], [9, 10, 11, 13], [9, 10, 12, 13], [9, 11, 12, 13], [10, 11, 12, 13]].\n",
      "\n",
      "At time slice 0, K has gradient vector field [[[1, 3, 4], [1, 2, 3, 4]], [[1, 3, 5], [1, 2, 3, 5]], [[1, 3, 6], [1, 2, 3, 6]], [[1, 3], [1, 2, 3]], [[1, 4, 6], [1, 2, 4, 6]], [[1, 4], [1, 2, 4]], [[1, 5, 6], [1, 2, 5, 6]], [[1, 5], [1, 2, 5]], [[1, 6], [1, 2, 6]], [[1], [1, 2]], [[2, 3], [2, 3, 4]], [[2, 4, 5], [1, 2, 4, 5]], [[2, 5, 6], [2, 3, 5, 6]], [[2, 5], [2, 3, 5]], [[2, 6], [2, 3, 6]], [[3, 4, 5], [0, 3, 4, 5]], [[3, 4, 6], [0, 3, 4, 6]], [[3, 4], [0, 3, 4]], [[3, 5, 6], [0, 3, 5, 6]], [[3, 5], [0, 3, 5]], [[3, 6], [0, 3, 6]], [[3], [0, 3]], [[4, 5, 6], [0, 4, 5, 6]], [[4, 5], [0, 4, 5]], [[4, 6], [0, 4, 6]], [[4], [0, 4]], [[5, 6], [0, 5, 6]], [[5], [0, 5]], [[6], [0, 6]], [[7, 9, 11], [7, 8, 9, 11]], [[7, 9, 13], [7, 8, 9, 13]], [[7, 9], [7, 8, 9]], [[7, 11, 12], [7, 8, 11, 12]], [[7, 12, 13], [7, 8, 12, 13]], [[7, 12], [7, 8, 12]], [[7, 13], [7, 8, 13]], [[7], [7, 8]], [[8, 9, 10], [7, 8, 9, 10]], [[8, 9, 12], [7, 8, 9, 12]], [[8, 10, 11], [7, 8, 10, 11]], [[8, 10, 12], [7, 8, 10, 12]], [[8, 10, 13], [7, 8, 10, 13]], [[8, 10], [7, 8, 10]], [[8, 11, 13], [7, 8, 11, 13]], [[8, 11], [7, 8, 11]], [[8, 12], [8, 12, 13]], [[8], [8, 9]], [[9, 10, 11], [7, 9, 10, 11]], [[9, 10, 12], [7, 9, 10, 12]], [[9, 10, 13], [7, 9, 10, 13]], [[9, 11, 12], [7, 9, 11, 12]], [[9, 12, 13], [7, 9, 12, 13]], [[9, 12], [7, 9, 12]], [[9, 13], [8, 9, 13]], [[9], [9, 11]], [[10, 11, 12], [7, 10, 11, 12]], [[10, 11, 13], [7, 10, 11, 13]], [[10, 11], [7, 10, 11]], [[10, 12], [7, 10, 12]], [[10, 13], [7, 10, 13]], [[10], [9, 10]], [[11, 12, 13], [7, 11, 12, 13]], [[11, 13], [7, 11, 13]], [[11], [11, 12]], [[12], [2, 12]], [[13], [8, 13]]].\n",
      "\n",
      "----------------------------------------------------\n",
      "\n",
      "At time slice 1, K has critical cells [[6], [12], [0, 6], [1, 5], [1, 11], [2, 12], [7, 12], [10, 13], [12, 13], [0, 4, 6], [1, 5, 6], [2, 4, 5], [7, 12, 13], [8, 11, 12], [9, 10, 13], [9, 12, 13], [10, 12, 13], [1, 3, 4, 6], [1, 3, 5, 6], [1, 4, 5, 6], [2, 3, 4, 5], [2, 3, 5, 6], [2, 4, 5, 6], [3, 4, 5, 6], [7, 9, 10, 11], [7, 9, 10, 13], [7, 9, 11, 12], [7, 9, 11, 13], [7, 10, 11, 13], [7, 10, 12, 13], [8, 9, 10, 12], [8, 9, 11, 12], [8, 9, 12, 13], [8, 10, 11, 12], [8, 10, 12, 13], [8, 11, 12, 13], [9, 10, 11, 12], [9, 10, 11, 13], [9, 10, 12, 13], [9, 11, 12, 13], [10, 11, 12, 13]].\n",
      "\n",
      "At time slice 1, K has gradient vector field [[[0, 4], [0, 3, 4]], [[0], [0, 3]], [[1, 3, 5], [1, 3, 4, 5]], [[1, 4, 5], [1, 2, 4, 5]], [[1, 4, 6], [1, 2, 4, 6]], [[1, 4], [1, 3, 4]], [[1, 6], [1, 3, 6]], [[1], [1, 3]], [[2, 3, 4], [1, 2, 3, 4]], [[2, 3, 5], [1, 2, 3, 5]], [[2, 3, 6], [1, 2, 3, 6]], [[2, 3], [1, 2, 3]], [[2, 4, 6], [2, 3, 4, 6]], [[2, 4], [1, 2, 4]], [[2, 5, 6], [1, 2, 5, 6]], [[2, 5], [1, 2, 5]], [[2, 6], [1, 2, 6]], [[2], [1, 2]], [[3, 4, 5], [0, 3, 4, 5]], [[3, 4, 6], [0, 3, 4, 6]], [[3, 5, 6], [0, 3, 5, 6]], [[3, 5], [0, 3, 5]], [[3, 6], [0, 3, 6]], [[3], [3, 4]], [[4, 5, 6], [0, 4, 5, 6]], [[4, 5], [0, 4, 5]], [[4], [4, 6]], [[5, 6], [0, 5, 6]], [[5], [0, 5]], [[7, 9, 10], [7, 8, 9, 10]], [[7, 9, 11], [7, 8, 9, 11]], [[7, 9, 12], [7, 9, 12, 13]], [[7, 9, 13], [7, 8, 9, 13]], [[7, 9], [7, 8, 9]], [[7, 10, 11], [7, 8, 10, 11]], [[7, 10, 13], [7, 8, 10, 13]], [[7, 10], [7, 8, 10]], [[7, 11, 12], [7, 8, 11, 12]], [[7, 11, 13], [7, 8, 11, 13]], [[7, 11], [7, 8, 11]], [[7, 13], [7, 8, 13]], [[7], [7, 8]], [[8, 9, 12], [7, 8, 9, 12]], [[8, 10, 11], [8, 9, 10, 11]], [[8, 10, 12], [7, 8, 10, 12]], [[8, 10, 13], [8, 9, 10, 13]], [[8, 10], [8, 9, 10]], [[8, 11], [8, 9, 11]], [[8, 12, 13], [7, 8, 12, 13]], [[8, 12], [7, 8, 12]], [[8], [8, 9]], [[9, 10, 12], [7, 9, 10, 12]], [[9, 11, 13], [8, 9, 11, 13]], [[9, 12], [9, 11, 12]], [[9, 13], [8, 9, 13]], [[9], [9, 11]], [[10, 11, 12], [7, 10, 11, 12]], [[10, 11, 13], [8, 10, 11, 13]], [[10, 11], [9, 10, 11]], [[10, 12], [7, 10, 12]], [[10], [9, 10]], [[11, 12, 13], [7, 11, 12, 13]], [[11, 13], [8, 11, 13]], [[11], [11, 12]], [[13], [8, 13]]].\n",
      "\n",
      "----------------------------------------------------\n",
      "\n",
      "At time slice 2, K has critical cells [[3], [12], [1, 5], [1, 11], [2, 12], [7, 10], [7, 12], [12, 13], [1, 3, 5], [1, 4, 5], [2, 4, 6], [2, 5, 6], [7, 10, 11], [7, 12, 13], [8, 11, 12], [9, 11, 12], [10, 11, 13], [11, 12, 13], [1, 3, 4, 5], [1, 3, 4, 6], [1, 3, 5, 6], [1, 4, 5, 6], [2, 3, 4, 5], [2, 3, 4, 6], [2, 3, 5, 6], [2, 4, 5, 6], [3, 4, 5, 6], [7, 9, 10, 11], [7, 9, 11, 12], [7, 9, 11, 13], [7, 10, 11, 13], [7, 11, 12, 13], [8, 9, 10, 11], [8, 9, 10, 12], [8, 9, 10, 13], [8, 9, 11, 12], [8, 9, 12, 13], [8, 10, 11, 12], [8, 10, 11, 13], [8, 10, 12, 13], [8, 11, 12, 13], [9, 10, 11, 12], [9, 10, 12, 13], [9, 11, 12, 13], [10, 11, 12, 13]].\n",
      "\n",
      "At time slice 2, K has gradient vector field [[[0], [0, 3]], [[1, 3, 6], [1, 2, 3, 6]], [[1, 4, 6], [1, 2, 4, 6]], [[1, 4], [1, 3, 4]], [[1, 5, 6], [1, 2, 5, 6]], [[1, 6], [1, 2, 6]], [[1], [1, 3]], [[2, 3, 4], [1, 2, 3, 4]], [[2, 3, 5], [1, 2, 3, 5]], [[2, 3], [1, 2, 3]], [[2, 4, 5], [1, 2, 4, 5]], [[2, 4], [1, 2, 4]], [[2, 5], [1, 2, 5]], [[2, 6], [2, 3, 6]], [[2], [1, 2]], [[3, 4, 5], [0, 3, 4, 5]], [[3, 4, 6], [0, 3, 4, 6]], [[3, 4], [0, 3, 4]], [[3, 5, 6], [0, 3, 5, 6]], [[3, 5], [0, 3, 5]], [[3, 6], [0, 3, 6]], [[4, 5, 6], [0, 4, 5, 6]], [[4, 5], [0, 4, 5]], [[4, 6], [0, 4, 6]], [[4], [0, 4]], [[5, 6], [0, 5, 6]], [[5], [0, 5]], [[6], [0, 6]], [[7, 9, 10], [7, 9, 10, 13]], [[7, 9, 11], [7, 8, 9, 11]], [[7, 9, 13], [7, 8, 9, 13]], [[7, 9], [7, 8, 9]], [[7, 11, 12], [7, 8, 11, 12]], [[7, 11, 13], [7, 8, 11, 13]], [[7, 11], [7, 8, 11]], [[7, 13], [7, 8, 13]], [[7], [7, 8]], [[8, 9, 10], [7, 8, 9, 10]], [[8, 9, 12], [7, 8, 9, 12]], [[8, 10, 11], [7, 8, 10, 11]], [[8, 10, 12], [7, 8, 10, 12]], [[8, 10, 13], [7, 8, 10, 13]], [[8, 10], [7, 8, 10]], [[8, 11, 13], [8, 9, 11, 13]], [[8, 11], [8, 9, 11]], [[8, 12, 13], [7, 8, 12, 13]], [[8, 12], [7, 8, 12]], [[8], [8, 9]], [[9, 10, 12], [7, 9, 10, 12]], [[9, 10, 13], [9, 10, 11, 13]], [[9, 12, 13], [7, 9, 12, 13]], [[9, 12], [7, 9, 12]], [[9, 13], [8, 9, 13]], [[9], [9, 11]], [[10, 11, 12], [7, 10, 11, 12]], [[10, 11], [9, 10, 11]], [[10, 12, 13], [7, 10, 12, 13]], [[10, 12], [7, 10, 12]], [[10, 13], [7, 10, 13]], [[10], [9, 10]], [[11, 13], [9, 11, 13]], [[11], [11, 12]], [[13], [8, 13]]].\n",
      "\n",
      "----------------------------------------------------\n",
      "\n",
      "At time slice 3, K has critical cells [[0], [8], [1, 3], [1, 11], [2, 5], [10, 12], [1, 3, 4], [1, 3, 5], [1, 3, 6], [2, 4, 5], [2, 5, 6], [8, 12, 13], [1, 3, 4, 5], [1, 3, 4, 6], [1, 3, 5, 6], [1, 4, 5, 6], [2, 3, 4, 5], [2, 3, 4, 6], [2, 3, 5, 6], [2, 4, 5, 6], [3, 4, 5, 6], [7, 10, 12, 13], [8, 9, 10, 11], [8, 9, 10, 12], [8, 9, 10, 13], [8, 9, 11, 12], [8, 9, 11, 13], [8, 9, 12, 13], [8, 10, 11, 12], [8, 10, 11, 13], [8, 10, 12, 13], [8, 11, 12, 13], [9, 10, 11, 12], [9, 10, 11, 13], [9, 10, 12, 13], [9, 11, 12, 13], [10, 11, 12, 13]].\n",
      "\n",
      "At time slice 3, K has gradient vector field [[[1, 4, 5], [1, 2, 4, 5]], [[1, 4, 6], [1, 2, 4, 6]], [[1, 4], [1, 2, 4]], [[1, 5, 6], [1, 2, 5, 6]], [[1, 5], [1, 2, 5]], [[1, 6], [1, 2, 6]], [[1], [1, 2]], [[2, 3, 4], [1, 2, 3, 4]], [[2, 3, 5], [1, 2, 3, 5]], [[2, 3, 6], [1, 2, 3, 6]], [[2, 3], [1, 2, 3]], [[2, 6], [2, 4, 6]], [[2], [2, 4]], [[3, 4, 5], [0, 3, 4, 5]], [[3, 4, 6], [0, 3, 4, 6]], [[3, 4], [0, 3, 4]], [[3, 5, 6], [0, 3, 5, 6]], [[3, 5], [0, 3, 5]], [[3, 6], [0, 3, 6]], [[3], [0, 3]], [[4, 5, 6], [0, 4, 5, 6]], [[4, 5], [0, 4, 5]], [[4, 6], [0, 4, 6]], [[4], [0, 4]], [[5, 6], [0, 5, 6]], [[5], [0, 5]], [[6], [0, 6]], [[7, 12, 13], [7, 8, 12, 13]], [[7, 12], [7, 10, 12]], [[7], [7, 8]], [[8, 9, 10], [7, 8, 9, 10]], [[8, 9, 11], [7, 8, 9, 11]], [[8, 9, 12], [7, 8, 9, 12]], [[8, 9, 13], [7, 8, 9, 13]], [[8, 9], [7, 8, 9]], [[8, 10, 11], [7, 8, 10, 11]], [[8, 10, 12], [7, 8, 10, 12]], [[8, 10, 13], [7, 8, 10, 13]], [[8, 10], [7, 8, 10]], [[8, 11, 12], [7, 8, 11, 12]], [[8, 11, 13], [7, 8, 11, 13]], [[8, 11], [7, 8, 11]], [[8, 12], [7, 8, 12]], [[8, 13], [7, 8, 13]], [[9, 10, 11], [7, 9, 10, 11]], [[9, 10, 12], [7, 9, 10, 12]], [[9, 10, 13], [7, 9, 10, 13]], [[9, 10], [7, 9, 10]], [[9, 11, 12], [7, 9, 11, 12]], [[9, 11, 13], [7, 9, 11, 13]], [[9, 11], [7, 9, 11]], [[9, 12, 13], [7, 9, 12, 13]], [[9, 12], [7, 9, 12]], [[9, 13], [7, 9, 13]], [[9], [7, 9]], [[10, 11, 12], [7, 10, 11, 12]], [[10, 11, 13], [7, 10, 11, 13]], [[10, 11], [7, 10, 11]], [[10, 13], [7, 10, 13]], [[10], [7, 10]], [[11, 12, 13], [7, 11, 12, 13]], [[11, 12], [7, 11, 12]], [[11, 13], [7, 11, 13]], [[11], [7, 11]], [[12, 13], [10, 12, 13]], [[12], [2, 12]], [[13], [7, 13]]].\n",
      "\n",
      "----------------------------------------------------\n",
      "\n",
      "At time slice 4, K has critical cells [[6], [12], [1, 5], [2, 4], [2, 12], [7, 10], [7, 12], [11, 12], [11, 13], [1, 3, 6], [2, 4, 6], [2, 5, 6], [7, 9, 10], [9, 10, 13], [9, 11, 12], [9, 11, 13], [10, 11, 12], [1, 3, 4, 6], [1, 3, 5, 6], [1, 4, 5, 6], [2, 3, 4, 5], [2, 3, 4, 6], [2, 3, 5, 6], [3, 4, 5, 6], [7, 9, 10, 11], [7, 9, 10, 13], [7, 10, 11, 12], [7, 10, 11, 13], [7, 11, 12, 13], [8, 9, 10, 12], [8, 9, 10, 13], [8, 9, 11, 12], [8, 9, 11, 13], [8, 9, 12, 13], [8, 10, 11, 12], [8, 10, 11, 13], [8, 10, 12, 13], [8, 11, 12, 13], [9, 10, 11, 12], [9, 10, 12, 13], [9, 11, 12, 13]].\n",
      "\n",
      "At time slice 4, K has gradient vector field [[[0], [0, 6]], [[1, 3, 4], [1, 3, 4, 5]], [[1, 3], [1, 3, 5]], [[1, 4, 5], [1, 2, 4, 5]], [[1, 4, 6], [1, 2, 4, 6]], [[1, 4], [1, 2, 4]], [[1, 5, 6], [1, 2, 5, 6]], [[1], [1, 6]], [[2, 3, 4], [1, 2, 3, 4]], [[2, 3, 5], [1, 2, 3, 5]], [[2, 3, 6], [1, 2, 3, 6]], [[2, 3], [1, 2, 3]], [[2, 4, 5], [2, 4, 5, 6]], [[2, 5], [1, 2, 5]], [[2, 6], [1, 2, 6]], [[2], [1, 2]], [[3, 4, 5], [0, 3, 4, 5]], [[3, 4, 6], [0, 3, 4, 6]], [[3, 4], [0, 3, 4]], [[3, 5, 6], [0, 3, 5, 6]], [[3, 5], [0, 3, 5]], [[3, 6], [0, 3, 6]], [[3], [0, 3]], [[4, 5, 6], [0, 4, 5, 6]], [[4, 5], [0, 4, 5]], [[4, 6], [0, 4, 6]], [[4], [0, 4]], [[5, 6], [0, 5, 6]], [[5], [0, 5]], [[7, 9, 13], [7, 8, 9, 13]], [[7, 9], [7, 8, 9]], [[7, 10, 11], [7, 8, 10, 11]], [[7, 11, 12], [7, 9, 11, 12]], [[7, 11, 13], [7, 9, 11, 13]], [[7, 11], [7, 9, 11]], [[7, 13], [7, 8, 13]], [[7], [7, 8]], [[8, 9, 10], [7, 8, 9, 10]], [[8, 9, 11], [7, 8, 9, 11]], [[8, 9, 12], [7, 8, 9, 12]], [[8, 10, 11], [8, 9, 10, 11]], [[8, 10, 12], [7, 8, 10, 12]], [[8, 10, 13], [7, 8, 10, 13]], [[8, 10], [7, 8, 10]], [[8, 11, 12], [7, 8, 11, 12]], [[8, 11, 13], [7, 8, 11, 13]], [[8, 11], [7, 8, 11]], [[8, 12, 13], [7, 8, 12, 13]], [[8, 12], [7, 8, 12]], [[8], [8, 9]], [[9, 10, 12], [7, 9, 10, 12]], [[9, 12, 13], [7, 9, 12, 13]], [[9, 12], [7, 9, 12]], [[9, 13], [8, 9, 13]], [[9], [9, 11]], [[10, 11, 13], [9, 10, 11, 13]], [[10, 11], [9, 10, 11]], [[10, 12, 13], [7, 10, 12, 13]], [[10, 12], [7, 10, 12]], [[10, 13], [7, 10, 13]], [[10], [9, 10]], [[11, 12, 13], [10, 11, 12, 13]], [[11], [1, 11]], [[12, 13], [7, 12, 13]], [[13], [8, 13]]].\n",
      "\n",
      "----------------------------------------------------\n",
      "\n",
      "At time slice 5, K has critical cells [[0], [7], [1, 3], [1, 11], [2, 5], [2, 12], [1, 3, 4], [1, 5, 6], [2, 3, 5], [2, 4, 5], [1, 3, 4, 5], [1, 3, 4, 6], [1, 4, 5, 6], [2, 3, 4, 5], [2, 3, 4, 6], [2, 3, 5, 6], [2, 4, 5, 6], [3, 4, 5, 6], [8, 9, 10, 11], [8, 9, 10, 12], [8, 9, 10, 13], [8, 9, 11, 12], [8, 9, 11, 13], [8, 9, 12, 13], [8, 10, 11, 12], [8, 10, 11, 13], [8, 10, 12, 13], [8, 11, 12, 13], [9, 10, 11, 12], [9, 10, 11, 13], [9, 10, 12, 13], [9, 11, 12, 13], [10, 11, 12, 13]].\n",
      "\n",
      "At time slice 5, K has gradient vector field [[[1, 3, 5], [1, 2, 3, 5]], [[1, 3, 6], [1, 3, 5, 6]], [[1, 4, 5], [1, 2, 4, 5]], [[1, 4, 6], [1, 2, 4, 6]], [[1, 4], [1, 2, 4]], [[1, 5], [1, 2, 5]], [[1, 6], [1, 2, 6]], [[1], [1, 2]], [[2, 3, 4], [1, 2, 3, 4]], [[2, 3, 6], [1, 2, 3, 6]], [[2, 3], [1, 2, 3]], [[2, 5, 6], [1, 2, 5, 6]], [[2, 6], [2, 4, 6]], [[2], [2, 4]], [[3, 4, 5], [0, 3, 4, 5]], [[3, 4, 6], [0, 3, 4, 6]], [[3, 4], [0, 3, 4]], [[3, 5, 6], [0, 3, 5, 6]], [[3, 5], [0, 3, 5]], [[3, 6], [0, 3, 6]], [[3], [0, 3]], [[4, 5, 6], [0, 4, 5, 6]], [[4, 5], [0, 4, 5]], [[4, 6], [0, 4, 6]], [[4], [0, 4]], [[5, 6], [0, 5, 6]], [[5], [0, 5]], [[6], [0, 6]], [[8, 9, 10], [7, 8, 9, 10]], [[8, 9, 11], [7, 8, 9, 11]], [[8, 9, 12], [7, 8, 9, 12]], [[8, 9, 13], [7, 8, 9, 13]], [[8, 9], [7, 8, 9]], [[8, 10, 11], [7, 8, 10, 11]], [[8, 10, 12], [7, 8, 10, 12]], [[8, 10, 13], [7, 8, 10, 13]], [[8, 10], [7, 8, 10]], [[8, 11, 12], [7, 8, 11, 12]], [[8, 11, 13], [7, 8, 11, 13]], [[8, 11], [7, 8, 11]], [[8, 12, 13], [7, 8, 12, 13]], [[8, 12], [7, 8, 12]], [[8, 13], [7, 8, 13]], [[8], [7, 8]], [[9, 10, 11], [7, 9, 10, 11]], [[9, 10, 12], [7, 9, 10, 12]], [[9, 10, 13], [7, 9, 10, 13]], [[9, 10], [7, 9, 10]], [[9, 11, 12], [7, 9, 11, 12]], [[9, 11, 13], [7, 9, 11, 13]], [[9, 11], [7, 9, 11]], [[9, 12, 13], [7, 9, 12, 13]], [[9, 12], [7, 9, 12]], [[9, 13], [7, 9, 13]], [[9], [7, 9]], [[10, 11, 12], [7, 10, 11, 12]], [[10, 11, 13], [7, 10, 11, 13]], [[10, 11], [7, 10, 11]], [[10, 12, 13], [7, 10, 12, 13]], [[10, 12], [7, 10, 12]], [[10, 13], [7, 10, 13]], [[10], [7, 10]], [[11, 12, 13], [7, 11, 12, 13]], [[11, 12], [7, 11, 12]], [[11, 13], [7, 11, 13]], [[11], [7, 11]], [[12, 13], [7, 12, 13]], [[12], [7, 12]], [[13], [7, 13]]].\n",
      "\n",
      "----------------------------------------------------\n",
      "\n",
      "At time slice 6, K has critical cells [[0], [1], [13], [1, 3], [1, 6], [2, 4], [2, 12], [10, 11], [1, 3, 6], [1, 5, 6], [2, 3, 4], [2, 3, 5], [2, 4, 6], [1, 3, 4, 5], [1, 3, 4, 6], [1, 3, 5, 6], [1, 4, 5, 6], [2, 3, 4, 5], [2, 3, 4, 6], [2, 3, 5, 6], [2, 4, 5, 6], [3, 4, 5, 6], [7, 10, 11, 12], [7, 10, 12, 13], [8, 9, 10, 11], [8, 9, 10, 12], [8, 9, 10, 13], [8, 9, 11, 12], [8, 9, 11, 13], [8, 9, 12, 13], [8, 10, 11, 13], [8, 11, 12, 13], [9, 10, 11, 12], [9, 10, 11, 13], [9, 10, 12, 13], [9, 11, 12, 13], [10, 11, 12, 13]].\n",
      "\n",
      "At time slice 6, K has gradient vector field [[[1, 3, 4], [1, 2, 3, 4]], [[1, 3, 5], [1, 2, 3, 5]], [[1, 4, 5], [1, 2, 4, 5]], [[1, 4, 6], [1, 2, 4, 6]], [[1, 4], [1, 2, 4]], [[1, 5], [1, 2, 5]], [[2, 3, 6], [1, 2, 3, 6]], [[2, 3], [1, 2, 3]], [[2, 5, 6], [1, 2, 5, 6]], [[2, 5], [2, 4, 5]], [[2, 6], [1, 2, 6]], [[2], [1, 2]], [[3, 4, 5], [0, 3, 4, 5]], [[3, 4, 6], [0, 3, 4, 6]], [[3, 4], [0, 3, 4]], [[3, 5, 6], [0, 3, 5, 6]], [[3, 5], [0, 3, 5]], [[3, 6], [0, 3, 6]], [[3], [0, 3]], [[4, 5, 6], [0, 4, 5, 6]], [[4, 5], [0, 4, 5]], [[4, 6], [0, 4, 6]], [[4], [0, 4]], [[5, 6], [0, 5, 6]], [[5], [0, 5]], [[6], [0, 6]], [[7, 10, 11], [7, 8, 10, 11]], [[7, 10, 12], [7, 8, 10, 12]], [[7, 10, 13], [7, 8, 10, 13]], [[7, 10], [7, 8, 10]], [[7, 11, 12], [7, 8, 11, 12]], [[7, 11, 13], [7, 10, 11, 13]], [[7, 11], [7, 8, 11]], [[7, 12, 13], [7, 8, 12, 13]], [[7, 12], [7, 8, 12]], [[7, 13], [7, 8, 13]], [[7], [7, 8]], [[8, 9, 10], [7, 8, 9, 10]], [[8, 9, 11], [7, 8, 9, 11]], [[8, 9, 12], [7, 8, 9, 12]], [[8, 9, 13], [7, 8, 9, 13]], [[8, 9], [7, 8, 9]], [[8, 11, 13], [7, 8, 11, 13]], [[8, 11], [8, 10, 11]], [[8, 12, 13], [8, 10, 12, 13]], [[8, 12], [8, 10, 12]], [[8, 13], [8, 10, 13]], [[8], [8, 10]], [[9, 10, 11], [7, 9, 10, 11]], [[9, 10, 12], [7, 9, 10, 12]], [[9, 10, 13], [7, 9, 10, 13]], [[9, 10], [7, 9, 10]], [[9, 11, 12], [7, 9, 11, 12]], [[9, 11, 13], [7, 9, 11, 13]], [[9, 11], [7, 9, 11]], [[9, 12, 13], [7, 9, 12, 13]], [[9, 12], [7, 9, 12]], [[9, 13], [7, 9, 13]], [[9], [7, 9]], [[10, 11, 12], [8, 10, 11, 12]], [[10, 13], [10, 12, 13]], [[10], [10, 12]], [[11, 12, 13], [7, 11, 12, 13]], [[11, 12], [8, 11, 12]], [[11, 13], [10, 11, 13]], [[11], [1, 11]], [[12], [12, 13]]].\n",
      "\n",
      "----------------------------------------------------\n",
      "\n",
      "At time slice 7, K has critical cells [[0], [1], [9], [2, 3], [2, 4], [2, 6], [7, 12], [8, 13], [11, 12], [1, 5, 6], [2, 3, 4], [2, 3, 6], [7, 9, 13], [10, 11, 12], [11, 12, 13], [1, 3, 4, 6], [1, 3, 5, 6], [1, 4, 5, 6], [2, 3, 4, 5], [2, 3, 5, 6], [2, 4, 5, 6], [3, 4, 5, 6], [7, 10, 11, 12], [7, 11, 12, 13], [8, 9, 10, 11], [8, 9, 10, 12], [8, 9, 10, 13], [8, 9, 11, 12], [8, 9, 11, 13], [8, 9, 12, 13], [8, 10, 11, 12], [8, 10, 11, 13], [8, 10, 12, 13], [8, 11, 12, 13], [9, 10, 11, 12], [9, 10, 11, 13], [9, 10, 12, 13], [9, 11, 12, 13], [10, 11, 12, 13]].\n",
      "\n",
      "At time slice 7, K has gradient vector field [[[1, 3, 4], [1, 2, 3, 4]], [[1, 3, 6], [1, 2, 3, 6]], [[1, 3], [1, 2, 3]], [[1, 4, 5], [1, 3, 4, 5]], [[1, 4, 6], [1, 2, 4, 6]], [[1, 4], [1, 2, 4]], [[1, 5], [1, 3, 5]], [[1, 6], [1, 2, 6]], [[2, 3, 5], [1, 2, 3, 5]], [[2, 4, 5], [1, 2, 4, 5]], [[2, 4, 6], [2, 3, 4, 6]], [[2, 5, 6], [1, 2, 5, 6]], [[2, 5], [1, 2, 5]], [[2], [1, 2]], [[3, 4, 5], [0, 3, 4, 5]], [[3, 4, 6], [0, 3, 4, 6]], [[3, 4], [0, 3, 4]], [[3, 5, 6], [0, 3, 5, 6]], [[3, 5], [0, 3, 5]], [[3, 6], [0, 3, 6]], [[3], [0, 3]], [[4, 5, 6], [0, 4, 5, 6]], [[4, 5], [0, 4, 5]], [[4, 6], [0, 4, 6]], [[4], [0, 4]], [[5, 6], [0, 5, 6]], [[5], [0, 5]], [[6], [0, 6]], [[7, 11, 12], [7, 9, 11, 12]], [[7, 11], [7, 9, 11]], [[7, 13], [7, 8, 13]], [[7], [7, 9]], [[8, 9, 10], [7, 8, 9, 10]], [[8, 9, 11], [7, 8, 9, 11]], [[8, 9, 12], [7, 8, 9, 12]], [[8, 9, 13], [7, 8, 9, 13]], [[8, 9], [7, 8, 9]], [[8, 10, 11], [7, 8, 10, 11]], [[8, 10, 12], [7, 8, 10, 12]], [[8, 10, 13], [7, 8, 10, 13]], [[8, 10], [7, 8, 10]], [[8, 11, 12], [7, 8, 11, 12]], [[8, 11, 13], [7, 8, 11, 13]], [[8, 11], [7, 8, 11]], [[8, 12, 13], [7, 8, 12, 13]], [[8, 12], [7, 8, 12]], [[8], [7, 8]], [[9, 10, 11], [7, 9, 10, 11]], [[9, 10, 12], [7, 9, 10, 12]], [[9, 10, 13], [7, 9, 10, 13]], [[9, 10], [7, 9, 10]], [[9, 11, 13], [7, 9, 11, 13]], [[9, 11], [9, 11, 12]], [[9, 12, 13], [7, 9, 12, 13]], [[9, 12], [7, 9, 12]], [[10, 11, 13], [7, 10, 11, 13]], [[10, 11], [7, 10, 11]], [[10, 12, 13], [7, 10, 12, 13]], [[10, 12], [7, 10, 12]], [[10, 13], [7, 10, 13]], [[10], [7, 10]], [[11, 13], [7, 11, 13]], [[11], [1, 11]], [[12, 13], [7, 12, 13]], [[12], [2, 12]], [[13], [9, 13]]].\n",
      "\n",
      "----------------------------------------------------\n",
      "\n",
      "At time slice 8, K has critical cells [[0], [1], [9], [1, 3], [1, 6], [8, 11], [10, 12], [1, 3, 4], [1, 3, 6], [2, 5, 6], [7, 9, 11], [9, 11, 12], [1, 3, 4, 5], [1, 3, 4, 6], [1, 3, 5, 6], [1, 4, 5, 6], [2, 3, 4, 6], [2, 3, 5, 6], [2, 4, 5, 6], [3, 4, 5, 6], [7, 9, 10, 11], [7, 9, 10, 12], [7, 9, 11, 12], [7, 10, 11, 12], [8, 9, 10, 11], [8, 9, 10, 13], [8, 9, 11, 12], [8, 9, 11, 13], [8, 9, 12, 13], [8, 10, 11, 13], [8, 10, 12, 13], [8, 11, 12, 13], [9, 10, 11, 12], [9, 10, 11, 13], [9, 10, 12, 13], [9, 11, 12, 13], [10, 11, 12, 13]].\n",
      "\n",
      "At time slice 8, K has gradient vector field [[[1, 4, 5], [1, 2, 4, 5]], [[1, 4, 6], [1, 2, 4, 6]], [[1, 4], [1, 2, 4]], [[1, 5, 6], [1, 2, 5, 6]], [[1, 5], [1, 3, 5]], [[2, 3, 4], [1, 2, 3, 4]], [[2, 3, 5], [1, 2, 3, 5]], [[2, 3, 6], [1, 2, 3, 6]], [[2, 3], [1, 2, 3]], [[2, 4, 5], [2, 3, 4, 5]], [[2, 4], [2, 4, 6]], [[2, 5], [1, 2, 5]], [[2, 6], [1, 2, 6]], [[2], [1, 2]], [[3, 4, 5], [0, 3, 4, 5]], [[3, 4, 6], [0, 3, 4, 6]], [[3, 4], [0, 3, 4]], [[3, 5, 6], [0, 3, 5, 6]], [[3, 5], [0, 3, 5]], [[3, 6], [0, 3, 6]], [[3], [0, 3]], [[4, 5, 6], [0, 4, 5, 6]], [[4, 5], [0, 4, 5]], [[4, 6], [0, 4, 6]], [[4], [0, 4]], [[5, 6], [0, 5, 6]], [[5], [0, 5]], [[6], [0, 6]], [[7, 10, 11], [7, 8, 10, 11]], [[7, 10, 12], [7, 8, 10, 12]], [[7, 11, 12], [7, 8, 11, 12]], [[7, 11], [7, 8, 11]], [[7, 12], [7, 8, 12]], [[7], [7, 9]], [[8, 9, 10], [7, 8, 9, 10]], [[8, 9, 11], [7, 8, 9, 11]], [[8, 9, 12], [7, 8, 9, 12]], [[8, 9, 13], [7, 8, 9, 13]], [[8, 9], [7, 8, 9]], [[8, 10, 13], [7, 8, 10, 13]], [[8, 10], [7, 8, 10]], [[8, 11, 13], [7, 8, 11, 13]], [[8, 12, 13], [7, 8, 12, 13]], [[8, 12], [8, 10, 12]], [[8, 13], [7, 8, 13]], [[8], [7, 8]], [[9, 10, 12], [8, 9, 10, 12]], [[9, 10, 13], [7, 9, 10, 13]], [[9, 10], [7, 9, 10]], [[9, 11, 13], [7, 9, 11, 13]], [[9, 11], [9, 10, 11]], [[9, 12, 13], [7, 9, 12, 13]], [[9, 12], [7, 9, 12]], [[9, 13], [7, 9, 13]], [[10, 11, 12], [8, 10, 11, 12]], [[10, 11, 13], [7, 10, 11, 13]], [[10, 11], [8, 10, 11]], [[10, 12, 13], [7, 10, 12, 13]], [[10, 13], [7, 10, 13]], [[10], [7, 10]], [[11, 12, 13], [7, 11, 12, 13]], [[11, 12], [8, 11, 12]], [[11, 13], [7, 11, 13]], [[11], [1, 11]], [[12, 13], [7, 12, 13]], [[12], [2, 12]], [[13], [7, 13]]].\n",
      "\n",
      "----------------------------------------------------\n",
      "\n",
      "At time slice 9, K has critical cells [[0], [10], [1, 3], [1, 4], [2, 12], [8, 11], [1, 3, 4], [1, 4, 5], [1, 4, 6], [2, 5, 6], [7, 10, 12], [8, 10, 11], [8, 12, 13], [9, 11, 12], [9, 11, 13], [1, 3, 4, 5], [1, 3, 4, 6], [1, 3, 5, 6], [1, 4, 5, 6], [2, 3, 4, 5], [2, 3, 4, 6], [2, 3, 5, 6], [2, 4, 5, 6], [3, 4, 5, 6], [7, 9, 10, 11], [7, 9, 10, 12], [7, 9, 10, 13], [7, 9, 11, 12], [7, 9, 11, 13], [7, 9, 12, 13], [7, 10, 11, 12], [7, 10, 11, 13], [7, 10, 12, 13], [7, 11, 12, 13], [8, 9, 10, 12], [8, 9, 12, 13], [8, 10, 11, 12], [8, 10, 11, 13], [8, 10, 12, 13], [8, 11, 12, 13], [9, 10, 11, 12], [9, 10, 11, 13], [10, 11, 12, 13]].\n",
      "\n",
      "At time slice 9, K has gradient vector field [[[1, 5, 6], [1, 2, 5, 6]], [[1, 5], [1, 3, 5]], [[1, 6], [1, 3, 6]], [[1], [1, 11]], [[2, 3, 4], [1, 2, 3, 4]], [[2, 3, 5], [1, 2, 3, 5]], [[2, 3, 6], [1, 2, 3, 6]], [[2, 3], [1, 2, 3]], [[2, 4, 5], [1, 2, 4, 5]], [[2, 4, 6], [1, 2, 4, 6]], [[2, 4], [1, 2, 4]], [[2, 5], [1, 2, 5]], [[2, 6], [1, 2, 6]], [[2], [1, 2]], [[3, 4, 5], [0, 3, 4, 5]], [[3, 4, 6], [0, 3, 4, 6]], [[3, 4], [0, 3, 4]], [[3, 5, 6], [0, 3, 5, 6]], [[3, 5], [0, 3, 5]], [[3, 6], [0, 3, 6]], [[3], [0, 3]], [[4, 5, 6], [0, 4, 5, 6]], [[4, 5], [0, 4, 5]], [[4, 6], [0, 4, 6]], [[4], [0, 4]], [[5, 6], [0, 5, 6]], [[5], [0, 5]], [[6], [0, 6]], [[7, 9, 10], [7, 8, 9, 10]], [[7, 9, 13], [7, 8, 9, 13]], [[7, 9], [7, 8, 9]], [[7, 10, 11], [7, 8, 10, 11]], [[7, 10, 13], [7, 8, 10, 13]], [[7, 10], [7, 8, 10]], [[7, 11, 12], [7, 8, 11, 12]], [[7, 11, 13], [7, 8, 11, 13]], [[7, 11], [7, 8, 11]], [[7, 12, 13], [7, 8, 12, 13]], [[7, 12], [7, 9, 12]], [[7, 13], [7, 8, 13]], [[7], [7, 8]], [[8, 9, 11], [7, 8, 9, 11]], [[8, 9, 12], [7, 8, 9, 12]], [[8, 10, 12], [7, 8, 10, 12]], [[8, 10, 13], [8, 9, 10, 13]], [[8, 10], [8, 9, 10]], [[8, 11, 12], [8, 9, 11, 12]], [[8, 11, 13], [8, 9, 11, 13]], [[8, 12], [7, 8, 12]], [[8, 13], [8, 9, 13]], [[8], [8, 9]], [[9, 10, 11], [8, 9, 10, 11]], [[9, 11], [7, 9, 11]], [[9, 12], [9, 10, 12]], [[9, 13], [9, 10, 13]], [[9], [9, 10]], [[10, 12, 13], [9, 10, 12, 13]], [[11, 12, 13], [9, 11, 12, 13]], [[11, 12], [10, 11, 12]], [[11, 13], [10, 11, 13]], [[11], [10, 11]], [[12, 13], [9, 12, 13]], [[12], [10, 12]], [[13], [10, 13]]].\n",
      "\n",
      "----------------------------------------------------\n",
      "\n",
      "At time slice 10, K has critical cells [[0], [12], [1, 11], [2, 6], [2, 12], [1, 3, 6], [2, 4, 6], [2, 5, 6], [7, 10, 12], [7, 10, 13], [8, 10, 11], [10, 11, 13], [1, 3, 4, 6], [1, 3, 5, 6], [1, 4, 5, 6], [2, 3, 4, 5], [2, 3, 4, 6], [2, 3, 5, 6], [2, 4, 5, 6], [3, 4, 5, 6], [7, 9, 10, 11], [7, 9, 10, 12], [7, 9, 10, 13], [7, 9, 11, 12], [7, 9, 11, 13], [7, 9, 12, 13], [7, 10, 11, 12], [7, 10, 11, 13], [7, 10, 12, 13], [7, 11, 12, 13], [8, 9, 10, 11], [8, 9, 10, 12], [8, 9, 10, 13], [8, 10, 11, 12], [8, 10, 11, 13], [8, 10, 12, 13], [9, 10, 11, 13], [9, 11, 12, 13], [10, 11, 12, 13]].\n",
      "\n",
      "At time slice 10, K has gradient vector field [[[1, 3, 4], [1, 3, 4, 5]], [[1, 3, 5], [1, 2, 3, 5]], [[1, 3], [1, 2, 3]], [[1, 4, 5], [1, 2, 4, 5]], [[1, 4, 6], [1, 2, 4, 6]], [[1, 4], [1, 2, 4]], [[1, 5, 6], [1, 2, 5, 6]], [[1, 5], [1, 2, 5]], [[1, 6], [1, 2, 6]], [[1], [1, 2]], [[2, 3, 4], [1, 2, 3, 4]], [[2, 3, 6], [1, 2, 3, 6]], [[2, 3], [2, 3, 5]], [[2, 5], [2, 4, 5]], [[2], [2, 4]], [[3, 4, 5], [0, 3, 4, 5]], [[3, 4, 6], [0, 3, 4, 6]], [[3, 4], [0, 3, 4]], [[3, 5, 6], [0, 3, 5, 6]], [[3, 5], [0, 3, 5]], [[3, 6], [0, 3, 6]], [[3], [0, 3]], [[4, 5, 6], [0, 4, 5, 6]], [[4, 5], [0, 4, 5]], [[4, 6], [0, 4, 6]], [[4], [0, 4]], [[5, 6], [0, 5, 6]], [[5], [0, 5]], [[6], [0, 6]], [[7, 9, 11], [7, 8, 9, 11]], [[7, 9, 12], [7, 8, 9, 12]], [[7, 9, 13], [7, 8, 9, 13]], [[7, 9], [7, 8, 9]], [[7, 10, 11], [7, 8, 10, 11]], [[7, 10], [7, 9, 10]], [[7, 11, 12], [7, 8, 11, 12]], [[7, 11, 13], [7, 8, 11, 13]], [[7, 11], [7, 8, 11]], [[7, 12, 13], [7, 8, 12, 13]], [[7, 12], [7, 8, 12]], [[7, 13], [7, 8, 13]], [[7], [7, 8]], [[8, 9, 10], [7, 8, 9, 10]], [[8, 10, 12], [7, 8, 10, 12]], [[8, 10, 13], [7, 8, 10, 13]], [[8, 10], [7, 8, 10]], [[8, 11, 12], [8, 9, 11, 12]], [[8, 11], [8, 9, 11]], [[8, 12, 13], [8, 9, 12, 13]], [[8, 12], [8, 9, 12]], [[8, 13], [8, 9, 13]], [[8], [8, 9]], [[9, 11, 13], [8, 9, 11, 13]], [[9], [9, 12]], [[10, 11, 12], [9, 10, 11, 12]], [[10, 11], [9, 10, 11]], [[10, 12, 13], [9, 10, 12, 13]], [[10, 12], [9, 10, 12]], [[10, 13], [9, 10, 13]], [[10], [9, 10]], [[11, 12, 13], [8, 11, 12, 13]], [[11, 12], [9, 11, 12]], [[11, 13], [8, 11, 13]], [[11], [9, 11]], [[12, 13], [9, 12, 13]], [[13], [9, 13]]].\n",
      "\n",
      "----------------------------------------------------\n",
      "\n",
      "At time slice 11, K has critical cells [[0], [9], [1, 3], [1, 11], [2, 5], [12, 13], [1, 3, 4], [1, 3, 6], [1, 4, 5], [2, 3, 5], [2, 5, 6], [8, 11, 13], [1, 3, 4, 5], [1, 3, 4, 6], [1, 3, 5, 6], [1, 4, 5, 6], [2, 3, 4, 5], [2, 3, 4, 6], [2, 3, 5, 6], [2, 4, 5, 6], [3, 4, 5, 6], [7, 9, 11, 12], [7, 9, 11, 13], [7, 10, 11, 12], [7, 10, 11, 13], [7, 10, 12, 13], [7, 11, 12, 13], [8, 9, 10, 11], [8, 9, 10, 12], [8, 9, 10, 13], [8, 9, 11, 12], [8, 9, 11, 13], [8, 9, 12, 13], [8, 10, 11, 13], [8, 10, 12, 13], [8, 11, 12, 13], [10, 11, 12, 13]].\n",
      "\n",
      "At time slice 11, K has gradient vector field [[[1, 3, 5], [1, 2, 3, 5]], [[1, 4, 6], [1, 2, 4, 6]], [[1, 4], [1, 2, 4]], [[1, 5, 6], [1, 2, 5, 6]], [[1, 5], [1, 2, 5]], [[1, 6], [1, 2, 6]], [[1], [1, 2]], [[2, 3, 4], [1, 2, 3, 4]], [[2, 3, 6], [1, 2, 3, 6]], [[2, 3], [1, 2, 3]], [[2, 4, 5], [1, 2, 4, 5]], [[2, 6], [2, 4, 6]], [[2], [2, 4]], [[3, 4, 5], [0, 3, 4, 5]], [[3, 4, 6], [0, 3, 4, 6]], [[3, 4], [0, 3, 4]], [[3, 5, 6], [0, 3, 5, 6]], [[3, 5], [0, 3, 5]], [[3, 6], [0, 3, 6]], [[3], [0, 3]], [[4, 5, 6], [0, 4, 5, 6]], [[4, 5], [0, 4, 5]], [[4, 6], [0, 4, 6]], [[4], [0, 4]], [[5, 6], [0, 5, 6]], [[5], [0, 5]], [[6], [0, 6]], [[7, 10, 11], [7, 9, 10, 11]], [[7, 10, 12], [7, 9, 10, 12]], [[7, 10, 13], [7, 9, 10, 13]], [[7, 10], [7, 9, 10]], [[7, 11, 12], [7, 8, 11, 12]], [[7, 11, 13], [7, 8, 11, 13]], [[7, 11], [7, 9, 11]], [[7, 12, 13], [7, 9, 12, 13]], [[7, 12], [7, 9, 12]], [[7, 13], [7, 9, 13]], [[7], [7, 9]], [[8, 9, 10], [7, 8, 9, 10]], [[8, 9, 11], [7, 8, 9, 11]], [[8, 9, 12], [7, 8, 9, 12]], [[8, 9, 13], [7, 8, 9, 13]], [[8, 9], [7, 8, 9]], [[8, 10, 11], [7, 8, 10, 11]], [[8, 10, 12], [7, 8, 10, 12]], [[8, 10, 13], [7, 8, 10, 13]], [[8, 10], [7, 8, 10]], [[8, 11, 12], [8, 10, 11, 12]], [[8, 11], [7, 8, 11]], [[8, 12, 13], [7, 8, 12, 13]], [[8, 12], [7, 8, 12]], [[8, 13], [7, 8, 13]], [[8], [7, 8]], [[9, 12], [9, 12, 13]], [[10, 11, 12], [9, 10, 11, 12]], [[10, 11, 13], [9, 10, 11, 13]], [[10, 11], [9, 10, 11]], [[10, 12, 13], [9, 10, 12, 13]], [[10, 12], [9, 10, 12]], [[10, 13], [9, 10, 13]], [[10], [9, 10]], [[11, 12, 13], [9, 11, 12, 13]], [[11, 12], [9, 11, 12]], [[11, 13], [9, 11, 13]], [[11], [9, 11]], [[12], [2, 12]], [[13], [9, 13]]].\n",
      "\n",
      "----------------------------------------------------\n",
      "\n",
      "3\n",
      "Path from [0] to [6] via the subpaths [[0]] and [[0], [0, 3], [3], [3, 4], [4], [4, 6], [6]].\n",
      "Path from [2] to [6] via the subpaths [[2]] and [[2], [1, 2], [1], [1, 3], [3], [3, 4], [4], [4, 6], [6]].\n",
      "Path from [1, 11] to [2, 12] via the subpaths [[1, 11], [11], [11, 12], [12], [2, 12]] and [[2, 12]].\n",
      "Path from [7, 10] to [2, 12] via the subpaths [[7, 10], [7], [7, 8], [8], [8, 9], [9], [9, 11], [11], [11, 12], [12], [2, 12]] and [[2, 12]].\n",
      "Path from [7, 11] to [2, 12] via the subpaths [[7, 11], [7], [7, 8], [8], [8, 9], [9], [9, 11], [11], [11, 12], [12], [2, 12]] and [[2, 12]].\n",
      "Path from [12, 13] to [2, 12] via the subpaths [[12, 13], [12], [2, 12]] and [[2, 12]].\n"
     ]
    },
    {
     "ename": "KeyboardInterrupt",
     "evalue": "",
     "output_type": "error",
     "traceback": [
      "\u001b[0;31m---------------------------------------------------------------------------\u001b[0m",
      "\u001b[0;31mKeyboardInterrupt\u001b[0m                         Traceback (most recent call last)",
      "\u001b[0;32m<ipython-input-19-19e6127b4b59>\u001b[0m in \u001b[0;36m<module>\u001b[0;34m\u001b[0m\n\u001b[0;32m----> 1\u001b[0;31m \u001b[0mconnecting_critical_cells\u001b[0m\u001b[0;34m(\u001b[0m\u001b[0mG2\u001b[0m\u001b[0;34m)\u001b[0m\u001b[0;34m\u001b[0m\u001b[0;34m\u001b[0m\u001b[0m\n\u001b[0m",
      "\u001b[0;32m~/Desktop/Semester Project MA2/CODE/DMT.py\u001b[0m in \u001b[0;36mconnecting_critical_cells\u001b[0;34m(G, C, V)\u001b[0m\n\u001b[1;32m    395\u001b[0m                         \u001b[0;32mfor\u001b[0m \u001b[0ms2\u001b[0m \u001b[0;32min\u001b[0m \u001b[0mk_crit_j\u001b[0m\u001b[0;34m:\u001b[0m\u001b[0;34m\u001b[0m\u001b[0;34m\u001b[0m\u001b[0m\n\u001b[1;32m    396\u001b[0m \u001b[0;34m\u001b[0m\u001b[0m\n\u001b[0;32m--> 397\u001b[0;31m                             \u001b[0;32mif\u001b[0m \u001b[0mare_connected\u001b[0m\u001b[0;34m(\u001b[0m\u001b[0mK\u001b[0m\u001b[0;34m,\u001b[0m\u001b[0mV\u001b[0m\u001b[0;34m[\u001b[0m\u001b[0mi\u001b[0m\u001b[0;34m]\u001b[0m\u001b[0;34m,\u001b[0m\u001b[0mV\u001b[0m\u001b[0;34m[\u001b[0m\u001b[0mj\u001b[0m\u001b[0;34m]\u001b[0m\u001b[0;34m,\u001b[0m\u001b[0ms1\u001b[0m\u001b[0;34m,\u001b[0m\u001b[0ms2\u001b[0m\u001b[0;34m)\u001b[0m\u001b[0;34m:\u001b[0m\u001b[0;34m\u001b[0m\u001b[0;34m\u001b[0m\u001b[0m\n\u001b[0m\u001b[1;32m    398\u001b[0m \u001b[0;34m\u001b[0m\u001b[0m\n\u001b[1;32m    399\u001b[0m                                 \u001b[0mall_connected_pairs\u001b[0m\u001b[0;34m.\u001b[0m\u001b[0mappend\u001b[0m\u001b[0;34m(\u001b[0m\u001b[0;34m[\u001b[0m\u001b[0ms1\u001b[0m\u001b[0;34m,\u001b[0m\u001b[0ms2\u001b[0m\u001b[0;34m,\u001b[0m\u001b[0mi\u001b[0m\u001b[0;34m,\u001b[0m\u001b[0mj\u001b[0m\u001b[0;34m]\u001b[0m\u001b[0;34m)\u001b[0m\u001b[0;34m\u001b[0m\u001b[0;34m\u001b[0m\u001b[0m\n",
      "\u001b[0;32m~/Desktop/Semester Project MA2/CODE/DMT.py\u001b[0m in \u001b[0;36mare_connected\u001b[0;34m(K, V, W, s1, s2)\u001b[0m\n\u001b[1;32m    309\u001b[0m             \u001b[0;31m#print(simplex)\u001b[0m\u001b[0;34m\u001b[0m\u001b[0;34m\u001b[0m\u001b[0;34m\u001b[0m\u001b[0m\n\u001b[1;32m    310\u001b[0m \u001b[0;34m\u001b[0m\u001b[0m\n\u001b[0;32m--> 311\u001b[0;31m             \u001b[0;32mfor\u001b[0m \u001b[0mpath1\u001b[0m \u001b[0;32min\u001b[0m \u001b[0mV_paths\u001b[0m\u001b[0;34m(\u001b[0m\u001b[0mK\u001b[0m\u001b[0;34m,\u001b[0m\u001b[0mV\u001b[0m\u001b[0;34m,\u001b[0m\u001b[0ms1\u001b[0m\u001b[0;34m,\u001b[0m\u001b[0msimplex\u001b[0m\u001b[0;34m)\u001b[0m\u001b[0;34m:\u001b[0m\u001b[0;34m\u001b[0m\u001b[0;34m\u001b[0m\u001b[0m\n\u001b[0m\u001b[1;32m    312\u001b[0m \u001b[0;34m\u001b[0m\u001b[0m\n\u001b[1;32m    313\u001b[0m                 \u001b[0;32mfor\u001b[0m \u001b[0mpath2\u001b[0m \u001b[0;32min\u001b[0m \u001b[0mV_paths\u001b[0m\u001b[0;34m(\u001b[0m\u001b[0mK\u001b[0m\u001b[0;34m,\u001b[0m\u001b[0mW\u001b[0m\u001b[0;34m,\u001b[0m\u001b[0msimplex\u001b[0m\u001b[0;34m,\u001b[0m\u001b[0ms2\u001b[0m\u001b[0;34m)\u001b[0m\u001b[0;34m:\u001b[0m\u001b[0;34m\u001b[0m\u001b[0;34m\u001b[0m\u001b[0m\n",
      "\u001b[0;32m~/Desktop/Semester Project MA2/CODE/DMT.py\u001b[0m in \u001b[0;36mV_paths\u001b[0;34m(K, V, s1, s2)\u001b[0m\n\u001b[1;32m    269\u001b[0m \u001b[0;32mdef\u001b[0m \u001b[0mV_paths\u001b[0m\u001b[0;34m(\u001b[0m\u001b[0mK\u001b[0m\u001b[0;34m,\u001b[0m\u001b[0mV\u001b[0m\u001b[0;34m,\u001b[0m\u001b[0ms1\u001b[0m\u001b[0;34m,\u001b[0m\u001b[0ms2\u001b[0m\u001b[0;34m)\u001b[0m\u001b[0;34m:\u001b[0m\u001b[0;34m\u001b[0m\u001b[0;34m\u001b[0m\u001b[0m\n\u001b[1;32m    270\u001b[0m \u001b[0;34m\u001b[0m\u001b[0m\n\u001b[0;32m--> 271\u001b[0;31m     \u001b[0mH\u001b[0m \u001b[0;34m=\u001b[0m \u001b[0mHasse_diagram\u001b[0m\u001b[0;34m(\u001b[0m\u001b[0mK\u001b[0m\u001b[0;34m,\u001b[0m \u001b[0mV\u001b[0m\u001b[0;34m)\u001b[0m\u001b[0;34m\u001b[0m\u001b[0;34m\u001b[0m\u001b[0m\n\u001b[0m\u001b[1;32m    272\u001b[0m \u001b[0;34m\u001b[0m\u001b[0m\n\u001b[1;32m    273\u001b[0m     \u001b[0mall_paths\u001b[0m \u001b[0;34m=\u001b[0m \u001b[0mlist\u001b[0m\u001b[0;34m(\u001b[0m\u001b[0mnx\u001b[0m\u001b[0;34m.\u001b[0m\u001b[0mall_simple_paths\u001b[0m\u001b[0;34m(\u001b[0m\u001b[0mH\u001b[0m\u001b[0;34m,\u001b[0m\u001b[0mstr\u001b[0m\u001b[0;34m(\u001b[0m\u001b[0ms1\u001b[0m\u001b[0;34m)\u001b[0m\u001b[0;34m,\u001b[0m\u001b[0mstr\u001b[0m\u001b[0;34m(\u001b[0m\u001b[0ms2\u001b[0m\u001b[0;34m)\u001b[0m\u001b[0;34m)\u001b[0m\u001b[0;34m)\u001b[0m\u001b[0;34m\u001b[0m\u001b[0;34m\u001b[0m\u001b[0m\n",
      "\u001b[0;32m~/Desktop/Semester Project MA2/CODE/DMT.py\u001b[0m in \u001b[0;36mHasse_diagram\u001b[0;34m(K, V)\u001b[0m\n\u001b[1;32m    258\u001b[0m     \u001b[0;32mfor\u001b[0m \u001b[0mcell\u001b[0m \u001b[0;32min\u001b[0m \u001b[0msimplices\u001b[0m\u001b[0;34m:\u001b[0m\u001b[0;34m\u001b[0m\u001b[0;34m\u001b[0m\u001b[0m\n\u001b[1;32m    259\u001b[0m         \u001b[0mcofaces_1\u001b[0m \u001b[0;34m=\u001b[0m \u001b[0;34m[\u001b[0m\u001b[0mcoface\u001b[0m\u001b[0;34m[\u001b[0m\u001b[0;36m0\u001b[0m\u001b[0;34m]\u001b[0m \u001b[0;32mfor\u001b[0m \u001b[0mcoface\u001b[0m \u001b[0;32min\u001b[0m  \u001b[0mK\u001b[0m\u001b[0;34m.\u001b[0m\u001b[0mget_cofaces\u001b[0m\u001b[0;34m(\u001b[0m\u001b[0mcell\u001b[0m\u001b[0;34m,\u001b[0m\u001b[0;36m1\u001b[0m\u001b[0;34m)\u001b[0m\u001b[0;34m]\u001b[0m\u001b[0;34m\u001b[0m\u001b[0;34m\u001b[0m\u001b[0m\n\u001b[0;32m--> 260\u001b[0;31m         \u001b[0mH\u001b[0m\u001b[0;34m.\u001b[0m\u001b[0madd_edges_from\u001b[0m\u001b[0;34m(\u001b[0m\u001b[0;34m[\u001b[0m\u001b[0;34m(\u001b[0m\u001b[0mstr\u001b[0m\u001b[0;34m(\u001b[0m\u001b[0mcoface\u001b[0m\u001b[0;34m)\u001b[0m\u001b[0;34m,\u001b[0m\u001b[0mstr\u001b[0m\u001b[0;34m(\u001b[0m\u001b[0mcell\u001b[0m\u001b[0;34m)\u001b[0m\u001b[0;34m)\u001b[0m \u001b[0;32mfor\u001b[0m \u001b[0mcoface\u001b[0m \u001b[0;32min\u001b[0m \u001b[0mcofaces_1\u001b[0m\u001b[0;34m]\u001b[0m\u001b[0;34m)\u001b[0m\u001b[0;34m\u001b[0m\u001b[0;34m\u001b[0m\u001b[0m\n\u001b[0m\u001b[1;32m    261\u001b[0m \u001b[0;34m\u001b[0m\u001b[0m\n\u001b[1;32m    262\u001b[0m     \u001b[0;32mfor\u001b[0m \u001b[0medge\u001b[0m \u001b[0;32min\u001b[0m \u001b[0mV\u001b[0m\u001b[0;34m:\u001b[0m\u001b[0;34m\u001b[0m\u001b[0;34m\u001b[0m\u001b[0m\n",
      "\u001b[0;32m~/opt/anaconda3/lib/python3.8/site-packages/networkx/classes/digraph.py\u001b[0m in \u001b[0;36madd_edges_from\u001b[0;34m(self, ebunch_to_add, **attr)\u001b[0m\n\u001b[1;32m    697\u001b[0m             \u001b[0mdatadict\u001b[0m\u001b[0;34m.\u001b[0m\u001b[0mupdate\u001b[0m\u001b[0;34m(\u001b[0m\u001b[0mdd\u001b[0m\u001b[0;34m)\u001b[0m\u001b[0;34m\u001b[0m\u001b[0;34m\u001b[0m\u001b[0m\n\u001b[1;32m    698\u001b[0m             \u001b[0mself\u001b[0m\u001b[0;34m.\u001b[0m\u001b[0m_succ\u001b[0m\u001b[0;34m[\u001b[0m\u001b[0mu\u001b[0m\u001b[0;34m]\u001b[0m\u001b[0;34m[\u001b[0m\u001b[0mv\u001b[0m\u001b[0;34m]\u001b[0m \u001b[0;34m=\u001b[0m \u001b[0mdatadict\u001b[0m\u001b[0;34m\u001b[0m\u001b[0;34m\u001b[0m\u001b[0m\n\u001b[0;32m--> 699\u001b[0;31m             \u001b[0mself\u001b[0m\u001b[0;34m.\u001b[0m\u001b[0m_pred\u001b[0m\u001b[0;34m[\u001b[0m\u001b[0mv\u001b[0m\u001b[0;34m]\u001b[0m\u001b[0;34m[\u001b[0m\u001b[0mu\u001b[0m\u001b[0;34m]\u001b[0m \u001b[0;34m=\u001b[0m \u001b[0mdatadict\u001b[0m\u001b[0;34m\u001b[0m\u001b[0;34m\u001b[0m\u001b[0m\n\u001b[0m\u001b[1;32m    700\u001b[0m \u001b[0;34m\u001b[0m\u001b[0m\n\u001b[1;32m    701\u001b[0m     \u001b[0;32mdef\u001b[0m \u001b[0mremove_edge\u001b[0m\u001b[0;34m(\u001b[0m\u001b[0mself\u001b[0m\u001b[0;34m,\u001b[0m \u001b[0mu\u001b[0m\u001b[0;34m,\u001b[0m \u001b[0mv\u001b[0m\u001b[0;34m)\u001b[0m\u001b[0;34m:\u001b[0m\u001b[0;34m\u001b[0m\u001b[0;34m\u001b[0m\u001b[0m\n",
      "\u001b[0;31mKeyboardInterrupt\u001b[0m: "
     ]
    }
   ],
   "source": [
    "connecting_critical_cells(G2)"
   ]
  },
  {
   "cell_type": "markdown",
   "metadata": {},
   "source": [
    "### A third example : the circle $S^1$"
   ]
  },
  {
   "cell_type": "markdown",
   "metadata": {},
   "source": [
    "We run the whole method on the example of $S^1$ considered Figure 4 of the paper Parametric Morse Theory (2016). More precisely, we look at the circle built on a total of $8$ points, and consider $8$ gradient vector fields on it (thus a time-series of $8$ time slices)."
   ]
  },
  {
   "cell_type": "code",
   "execution_count": 22,
   "metadata": {},
   "outputs": [],
   "source": [
    "G3 = nx.Graph()\n",
    "for i in range(1,9):\n",
    "    G3.add_node(i)\n",
    "    G3.add_edge(i,i+1)\n",
    "G3.add_edge(1,8)\n",
    "\n",
    "C = []\n",
    "\n",
    "C.append([[5],[1,2]])\n",
    "C.append([[7],[4,5]])\n",
    "C.append([[5],[7],[5,6],[1,2]])\n",
    "C.append([[1],[5],[3,4],[7,8]])\n",
    "C.append([[8],[5,6]])\n",
    "C.append([[4],[7,8]])\n",
    "C.append([[1],[6],[2,3],[7,8]])\n",
    "C.append([[5],[4,5]])\n",
    "\n",
    "V = []\n",
    "\n",
    "V.append([[[1],[1,8]],[[8],[7,8]],[[7],[6,7]],[[6],[5,6]],[[4],[4,5]],[[3],[3,4]],[[2],[2,3]]])\n",
    "V.append([[[1],[1,8]],[[8],[7,8]],[[6],[6,7]],[[5],[5,6]],[[4],[3,4]],[[3],[2,3]],[[2],[1,2]]])\n",
    "V.append([[[1],[1,8]],[[8],[7,8]],[[6],[6,7]],[[4],[4,5]],[[3],[3,4]],[[2],[2,3]]])\n",
    "V.append([[[8],[1,8]],[[7],[6,7]],[[6],[5,6]],[[4],[4,5]],[[3],[2,3]],[[2],[1,2]]])\n",
    "V.append([[[1],[1,8]],[[7],[7,8]],[[6],[6,7]],[[5],[4,5]],[[4],[3,4]],[[3],[2,3]],[[2],[1,2]]])\n",
    "V.append([[[8],[1,8]],[[7],[6,7]],[[6],[5,6]],[[5],[4,5]],[[3],[3,4]],[[2],[2,3]],[[1],[1,2]]])\n",
    "V.append([[[8],[1,8]],[[7],[6,7]],[[5],[5,6]],[[4],[4,5]],[[3],[3,4]],[[2],[1,2]]])\n",
    "V.append([[[1],[1,8]],[[8],[7,8]],[[7],[6,7]],[[6],[5,6]],[[4],[3,4]],[[3],[2,3]],[[2],[1,2]]])"
   ]
  },
  {
   "cell_type": "code",
   "execution_count": 23,
   "metadata": {},
   "outputs": [
    {
     "name": "stdout",
     "output_type": "stream",
     "text": [
      "At time slice 0, K has critical cells [[5], [1, 2]].\n",
      "\n",
      "At time slice 0, K has gradient vector field [[[1], [1, 8]], [[8], [7, 8]], [[7], [6, 7]], [[6], [5, 6]], [[4], [4, 5]], [[3], [3, 4]], [[2], [2, 3]]].\n",
      "\n",
      "----------------------------------------------------\n",
      "\n",
      "At time slice 1, K has critical cells [[7], [4, 5]].\n",
      "\n",
      "At time slice 1, K has gradient vector field [[[1], [1, 8]], [[8], [7, 8]], [[6], [6, 7]], [[5], [5, 6]], [[4], [3, 4]], [[3], [2, 3]], [[2], [1, 2]]].\n",
      "\n",
      "----------------------------------------------------\n",
      "\n",
      "At time slice 2, K has critical cells [[5], [7], [5, 6], [1, 2]].\n",
      "\n",
      "At time slice 2, K has gradient vector field [[[1], [1, 8]], [[8], [7, 8]], [[6], [6, 7]], [[4], [4, 5]], [[3], [3, 4]], [[2], [2, 3]]].\n",
      "\n",
      "----------------------------------------------------\n",
      "\n",
      "At time slice 3, K has critical cells [[1], [5], [3, 4], [7, 8]].\n",
      "\n",
      "At time slice 3, K has gradient vector field [[[8], [1, 8]], [[7], [6, 7]], [[6], [5, 6]], [[4], [4, 5]], [[3], [2, 3]], [[2], [1, 2]]].\n",
      "\n",
      "----------------------------------------------------\n",
      "\n",
      "At time slice 4, K has critical cells [[8], [5, 6]].\n",
      "\n",
      "At time slice 4, K has gradient vector field [[[1], [1, 8]], [[7], [7, 8]], [[6], [6, 7]], [[5], [4, 5]], [[4], [3, 4]], [[3], [2, 3]], [[2], [1, 2]]].\n",
      "\n",
      "----------------------------------------------------\n",
      "\n",
      "At time slice 5, K has critical cells [[4], [7, 8]].\n",
      "\n",
      "At time slice 5, K has gradient vector field [[[8], [1, 8]], [[7], [6, 7]], [[6], [5, 6]], [[5], [4, 5]], [[3], [3, 4]], [[2], [2, 3]], [[1], [1, 2]]].\n",
      "\n",
      "----------------------------------------------------\n",
      "\n",
      "At time slice 6, K has critical cells [[1], [6], [2, 3], [7, 8]].\n",
      "\n",
      "At time slice 6, K has gradient vector field [[[8], [1, 8]], [[7], [6, 7]], [[5], [5, 6]], [[4], [4, 5]], [[3], [3, 4]], [[2], [1, 2]]].\n",
      "\n",
      "----------------------------------------------------\n",
      "\n",
      "At time slice 7, K has critical cells [[5], [4, 5]].\n",
      "\n",
      "At time slice 7, K has gradient vector field [[[1], [1, 8]], [[8], [7, 8]], [[7], [6, 7]], [[6], [5, 6]], [[4], [3, 4]], [[3], [2, 3]], [[2], [1, 2]]].\n",
      "\n",
      "----------------------------------------------------\n",
      "\n",
      "1\n",
      "Path from [5] to [7] via the subpaths [[5]] and [[5], [5, 6], [6], [6, 7], [7]].\n",
      "Path from [1, 2] to [4, 5] via the subpaths [[1, 2], [2], [2, 3], [3], [3, 4], [4], [4, 5]] and [[4, 5]].\n",
      "Path from [1, 2] to [5, 6] via the subpaths [[1, 2], [1], [1, 8], [8], [7, 8], [7], [6, 7], [6], [5, 6]] and [[5, 6]].\n",
      "Path from [1, 2] to [3, 4] via the subpaths [[1, 2], [2], [2, 3], [3], [3, 4]] and [[3, 4]].\n",
      "Path from [1, 2] to [7, 8] via the subpaths [[1, 2], [1], [1, 8], [8], [7, 8]] and [[7, 8]].\n",
      "Path from [5] to [8] via the subpaths [[5]] and [[5], [4, 5], [4], [3, 4], [3], [2, 3], [2], [1, 2], [1], [1, 8], [8]].\n",
      "Path from [1, 2] to [5, 6] via the subpaths [[1, 2], [1], [1, 8], [8], [7, 8], [7], [6, 7], [6], [5, 6]] and [[5, 6]].\n",
      "Path from [5] to [4] via the subpaths [[5]] and [[5], [4, 5], [4]].\n",
      "Path from [1, 2] to [7, 8] via the subpaths [[1, 2], [1], [1, 8], [8], [7, 8]] and [[7, 8]].\n",
      "Path from [5] to [6] via the subpaths [[5]] and [[5], [5, 6], [6]].\n",
      "Path from [1, 2] to [2, 3] via the subpaths [[1, 2], [2], [2, 3]] and [[2, 3]].\n",
      "Path from [1, 2] to [7, 8] via the subpaths [[1, 2], [1], [1, 8], [8], [7, 8]] and [[7, 8]].\n",
      "Path from [1, 2] to [4, 5] via the subpaths [[1, 2], [2], [2, 3], [3], [3, 4], [4], [4, 5]] and [[4, 5]].\n",
      "Path from [7] to [5] via the subpaths [[7]] and [[7], [6, 7], [6], [5, 6], [5]].\n",
      "Path from [4, 5] to [1, 2] via the subpaths [[4, 5], [4], [3, 4], [3], [2, 3], [2], [1, 2]] and [[1, 2]].\n",
      "Path from [4, 5] to [5, 6] via the subpaths [[4, 5], [5], [5, 6]] and [[5, 6]].\n",
      "Path from [4, 5] to [1, 2] via the subpaths [[4, 5], [4], [3, 4], [3], [2, 3], [2], [1, 2]] and [[1, 2]].\n",
      "Path from [7] to [5] via the subpaths [[7]] and [[7], [6, 7], [6], [5, 6], [5]].\n",
      "Path from [4, 5] to [3, 4] via the subpaths [[4, 5], [4], [3, 4]] and [[3, 4]].\n",
      "Path from [4, 5] to [7, 8] via the subpaths [[4, 5], [4], [3, 4], [3], [2, 3], [2], [1, 2], [1], [1, 8], [8], [7, 8]] and [[7, 8]].\n",
      "Path from [7] to [8] via the subpaths [[7]] and [[7], [7, 8], [8]].\n",
      "Path from [4, 5] to [5, 6] via the subpaths [[4, 5], [5], [5, 6]] and [[5, 6]].\n",
      "Path from [7] to [4] via the subpaths [[7]] and [[7], [6, 7], [6], [5, 6], [5], [4, 5], [4]].\n",
      "Path from [4, 5] to [7, 8] via the subpaths [[4, 5], [4], [3, 4], [3], [2, 3], [2], [1, 2], [1], [1, 8], [8], [7, 8]] and [[7, 8]].\n",
      "Path from [7] to [6] via the subpaths [[7]] and [[7], [6, 7], [6]].\n",
      "Path from [4, 5] to [2, 3] via the subpaths [[4, 5], [4], [3, 4], [3], [2, 3]] and [[2, 3]].\n",
      "Path from [4, 5] to [7, 8] via the subpaths [[4, 5], [4], [3, 4], [3], [2, 3], [2], [1, 2], [1], [1, 8], [8], [7, 8]] and [[7, 8]].\n",
      "Path from [7] to [5] via the subpaths [[7]] and [[7], [6, 7], [6], [5, 6], [5]].\n",
      "Path from [7] to [5] via the subpaths [[7]] and [[7], [6, 7], [6], [5, 6], [5]].\n",
      "Path from [5] to [7] via the subpaths [[5]] and [[5], [5, 6], [6], [6, 7], [7]].\n",
      "Path from [1, 2] to [4, 5] via the subpaths [[1, 2], [2], [2, 3], [3], [3, 4], [4], [4, 5]] and [[4, 5]].\n",
      "Path from [7] to [5] via the subpaths [[7]] and [[7], [6, 7], [6], [5, 6], [5]].\n",
      "Path from [1, 2] to [3, 4] via the subpaths [[1, 2], [2], [2, 3], [3], [3, 4]] and [[3, 4]].\n",
      "Path from [1, 2] to [7, 8] via the subpaths [[1, 2], [1], [1, 8], [8], [7, 8]] and [[7, 8]].\n",
      "Path from [5] to [8] via the subpaths [[5]] and [[5], [4, 5], [4], [3, 4], [3], [2, 3], [2], [1, 2], [1], [1, 8], [8]].\n",
      "Path from [7] to [8] via the subpaths [[7]] and [[7], [7, 8], [8]].\n",
      "Path from [5] to [4] via the subpaths [[5]] and [[5], [4, 5], [4]].\n",
      "Path from [7] to [4] via the subpaths [[7]] and [[7], [6, 7], [6], [5, 6], [5], [4, 5], [4]].\n",
      "Path from [1, 2] to [7, 8] via the subpaths [[1, 2], [1], [1, 8], [8], [7, 8]] and [[7, 8]].\n",
      "Path from [5] to [6] via the subpaths [[5]] and [[5], [5, 6], [6]].\n",
      "Path from [7] to [6] via the subpaths [[7]] and [[7], [6, 7], [6]].\n",
      "Path from [1, 2] to [2, 3] via the subpaths [[1, 2], [2], [2, 3]] and [[2, 3]].\n",
      "Path from [1, 2] to [7, 8] via the subpaths [[1, 2], [1], [1, 8], [8], [7, 8]] and [[7, 8]].\n",
      "Path from [7] to [5] via the subpaths [[7]] and [[7], [6, 7], [6], [5, 6], [5]].\n",
      "Path from [1, 2] to [4, 5] via the subpaths [[1, 2], [2], [2, 3], [3], [3, 4], [4], [4, 5]] and [[4, 5]].\n",
      "Path from [1] to [5] via the subpaths [[1]] and [[1], [1, 8], [8], [7, 8], [7], [6, 7], [6], [5, 6], [5]].\n",
      "Path from [3, 4] to [1, 2] via the subpaths [[3, 4], [3], [2, 3], [2], [1, 2]] and [[1, 2]].\n",
      "Path from [1] to [7] via the subpaths [[1]] and [[1], [1, 8], [8], [7, 8], [7]].\n",
      "Path from [5] to [7] via the subpaths [[5]] and [[5], [5, 6], [6], [6, 7], [7]].\n",
      "Path from [3, 4] to [4, 5] via the subpaths [[3, 4], [4], [4, 5]] and [[4, 5]].\n",
      "Path from [1] to [7] via the subpaths [[1]] and [[1], [1, 8], [8], [7, 8], [7]].\n",
      "Path from [3, 4] to [1, 2] via the subpaths [[3, 4], [3], [2, 3], [2], [1, 2]] and [[1, 2]].\n",
      "Path from [7, 8] to [5, 6] via the subpaths [[7, 8], [7], [6, 7], [6], [5, 6]] and [[5, 6]].\n",
      "Path from [1] to [8] via the subpaths [[1]] and [[1], [1, 8], [8]].\n",
      "Path from [5] to [8] via the subpaths [[5]] and [[5], [4, 5], [4], [3, 4], [3], [2, 3], [2], [1, 2], [1], [1, 8], [8]].\n",
      "Path from [7, 8] to [5, 6] via the subpaths [[7, 8], [7], [6, 7], [6], [5, 6]] and [[5, 6]].\n",
      "Path from [1] to [4] via the subpaths [[1]] and [[1], [1, 2], [2], [2, 3], [3], [3, 4], [4]].\n",
      "Path from [5] to [4] via the subpaths [[5]] and [[5], [4, 5], [4]].\n",
      "Path from [5] to [6] via the subpaths [[5]] and [[5], [5, 6], [6]].\n",
      "Path from [3, 4] to [2, 3] via the subpaths [[3, 4], [3], [2, 3]] and [[2, 3]].\n",
      "Path from [1] to [5] via the subpaths [[1]] and [[1], [1, 8], [8], [7, 8], [7], [6, 7], [6], [5, 6], [5]].\n",
      "Path from [3, 4] to [4, 5] via the subpaths [[3, 4], [4], [4, 5]] and [[4, 5]].\n",
      "Path from [8] to [5] via the subpaths [[8]] and [[8], [7, 8], [7], [6, 7], [6], [5, 6], [5]].\n",
      "Path from [5, 6] to [1, 2] via the subpaths [[5, 6], [5], [4, 5], [4], [3, 4], [3], [2, 3], [2], [1, 2]] and [[1, 2]].\n",
      "Path from [8] to [7] via the subpaths [[8]] and [[8], [7, 8], [7]].\n",
      "Path from [5, 6] to [4, 5] via the subpaths [[5, 6], [5], [4, 5]] and [[4, 5]].\n",
      "Path from [8] to [7] via the subpaths [[8]] and [[8], [7, 8], [7]].\n",
      "Path from [5, 6] to [1, 2] via the subpaths [[5, 6], [5], [4, 5], [4], [3, 4], [3], [2, 3], [2], [1, 2]] and [[1, 2]].\n",
      "Path from [8] to [1] via the subpaths [[8]] and [[8], [1, 8], [1]].\n",
      "Path from [5, 6] to [3, 4] via the subpaths [[5, 6], [5], [4, 5], [4], [3, 4]] and [[3, 4]].\n",
      "Path from [5, 6] to [7, 8] via the subpaths [[5, 6], [6], [6, 7], [7], [7, 8]] and [[7, 8]].\n",
      "Path from [8] to [4] via the subpaths [[8]] and [[8], [1, 8], [1], [1, 2], [2], [2, 3], [3], [3, 4], [4]].\n",
      "Path from [5, 6] to [7, 8] via the subpaths [[5, 6], [6], [6, 7], [7], [7, 8]] and [[7, 8]].\n",
      "Path from [8] to [1] via the subpaths [[8]] and [[8], [1, 8], [1]].\n",
      "Path from [5, 6] to [2, 3] via the subpaths [[5, 6], [5], [4, 5], [4], [3, 4], [3], [2, 3]] and [[2, 3]].\n",
      "Path from [5, 6] to [7, 8] via the subpaths [[5, 6], [6], [6, 7], [7], [7, 8]] and [[7, 8]].\n",
      "Path from [8] to [5] via the subpaths [[8]] and [[8], [7, 8], [7], [6, 7], [6], [5, 6], [5]].\n",
      "Path from [5, 6] to [4, 5] via the subpaths [[5, 6], [5], [4, 5]] and [[4, 5]].\n",
      "Path from [4] to [5] via the subpaths [[4]] and [[4], [4, 5], [5]].\n",
      "Path from [7, 8] to [1, 2] via the subpaths [[7, 8], [8], [1, 8], [1], [1, 2]] and [[1, 2]].\n",
      "Path from [4] to [7] via the subpaths [[4]] and [[4], [3, 4], [3], [2, 3], [2], [1, 2], [1], [1, 8], [8], [7, 8], [7]].\n",
      "Path from [7, 8] to [4, 5] via the subpaths [[7, 8], [7], [6, 7], [6], [5, 6], [5], [4, 5]] and [[4, 5]].\n",
      "Path from [4] to [5] via the subpaths [[4]] and [[4], [4, 5], [5]].\n",
      "Path from [7, 8] to [5, 6] via the subpaths [[7, 8], [7], [6, 7], [6], [5, 6]] and [[5, 6]].\n",
      "Path from [7, 8] to [1, 2] via the subpaths [[7, 8], [8], [1, 8], [1], [1, 2]] and [[1, 2]].\n",
      "Path from [4] to [5] via the subpaths [[4]] and [[4], [4, 5], [5]].\n",
      "Path from [7, 8] to [3, 4] via the subpaths [[7, 8], [8], [1, 8], [1], [1, 2], [2], [2, 3], [3], [3, 4]] and [[3, 4]].\n",
      "Path from [4] to [8] via the subpaths [[4]] and [[4], [3, 4], [3], [2, 3], [2], [1, 2], [1], [1, 8], [8]].\n",
      "Path from [7, 8] to [5, 6] via the subpaths [[7, 8], [7], [6, 7], [6], [5, 6]] and [[5, 6]].\n",
      "Path from [4] to [6] via the subpaths [[4]] and [[4], [4, 5], [5], [5, 6], [6]].\n",
      "Path from [7, 8] to [2, 3] via the subpaths [[7, 8], [8], [1, 8], [1], [1, 2], [2], [2, 3]] and [[2, 3]].\n",
      "Path from [4] to [5] via the subpaths [[4]] and [[4], [3, 4], [3], [2, 3], [2], [1, 2], [1], [1, 8], [8], [7, 8], [7], [6, 7], [6], [5, 6], [5]].\n",
      "Path from [7, 8] to [4, 5] via the subpaths [[7, 8], [7], [6, 7], [6], [5, 6], [5], [4, 5]] and [[4, 5]].\n",
      "Path from [1] to [5] via the subpaths [[1]] and [[1], [1, 8], [8], [7, 8], [7], [6, 7], [6], [5, 6], [5]].\n",
      "Path from [6] to [5] via the subpaths [[6]] and [[6], [5, 6], [5]].\n",
      "Path from [2, 3] to [1, 2] via the subpaths [[2, 3], [2], [1, 2]] and [[1, 2]].\n",
      "Path from [1] to [7] via the subpaths [[1]] and [[1], [1, 8], [8], [7, 8], [7]].\n",
      "Path from [6] to [7] via the subpaths [[6]] and [[6], [6, 7], [7]].\n",
      "Path from [2, 3] to [4, 5] via the subpaths [[2, 3], [3], [3, 4], [4], [4, 5]] and [[4, 5]].\n",
      "Path from [1] to [7] via the subpaths [[1]] and [[1], [1, 8], [8], [7, 8], [7]].\n",
      "Path from [6] to [7] via the subpaths [[6]] and [[6], [6, 7], [7]].\n",
      "Path from [2, 3] to [5, 6] via the subpaths [[2, 3], [3], [3, 4], [4], [4, 5], [5], [5, 6]] and [[5, 6]].\n",
      "Path from [2, 3] to [1, 2] via the subpaths [[2, 3], [2], [1, 2]] and [[1, 2]].\n",
      "Path from [6] to [5] via the subpaths [[6]] and [[6], [5, 6], [5]].\n",
      "Path from [2, 3] to [3, 4] via the subpaths [[2, 3], [3], [3, 4]] and [[3, 4]].\n",
      "Path from [1] to [8] via the subpaths [[1]] and [[1], [1, 8], [8]].\n",
      "Path from [6] to [8] via the subpaths [[6]] and [[6], [6, 7], [7], [7, 8], [8]].\n",
      "Path from [2, 3] to [5, 6] via the subpaths [[2, 3], [3], [3, 4], [4], [4, 5], [5], [5, 6]] and [[5, 6]].\n",
      "Path from [1] to [4] via the subpaths [[1]] and [[1], [1, 2], [2], [2, 3], [3], [3, 4], [4]].\n",
      "Path from [6] to [4] via the subpaths [[6]] and [[6], [5, 6], [5], [4, 5], [4]].\n",
      "Path from [1] to [5] via the subpaths [[1]] and [[1], [1, 8], [8], [7, 8], [7], [6, 7], [6], [5, 6], [5]].\n",
      "Path from [6] to [5] via the subpaths [[6]] and [[6], [5, 6], [5]].\n",
      "Path from [2, 3] to [4, 5] via the subpaths [[2, 3], [3], [3, 4], [4], [4, 5]] and [[4, 5]].\n",
      "Path from [4, 5] to [1, 2] via the subpaths [[4, 5], [4], [3, 4], [3], [2, 3], [2], [1, 2]] and [[1, 2]].\n",
      "Path from [5] to [7] via the subpaths [[5]] and [[5], [5, 6], [6], [6, 7], [7]].\n",
      "Path from [4, 5] to [5, 6] via the subpaths [[4, 5], [4], [3, 4], [3], [2, 3], [2], [1, 2], [1], [1, 8], [8], [7, 8], [7], [6, 7], [6], [5, 6]] and [[5, 6]].\n",
      "Path from [4, 5] to [1, 2] via the subpaths [[4, 5], [4], [3, 4], [3], [2, 3], [2], [1, 2]] and [[1, 2]].\n",
      "Path from [4, 5] to [3, 4] via the subpaths [[4, 5], [4], [3, 4]] and [[3, 4]].\n",
      "Path from [4, 5] to [7, 8] via the subpaths [[4, 5], [4], [3, 4], [3], [2, 3], [2], [1, 2], [1], [1, 8], [8], [7, 8]] and [[7, 8]].\n",
      "Path from [5] to [8] via the subpaths [[5]] and [[5], [4, 5], [4], [3, 4], [3], [2, 3], [2], [1, 2], [1], [1, 8], [8]].\n",
      "Path from [4, 5] to [5, 6] via the subpaths [[4, 5], [4], [3, 4], [3], [2, 3], [2], [1, 2], [1], [1, 8], [8], [7, 8], [7], [6, 7], [6], [5, 6]] and [[5, 6]].\n",
      "Path from [5] to [4] via the subpaths [[5]] and [[5], [4, 5], [4]].\n",
      "Path from [4, 5] to [7, 8] via the subpaths [[4, 5], [4], [3, 4], [3], [2, 3], [2], [1, 2], [1], [1, 8], [8], [7, 8]] and [[7, 8]].\n",
      "Path from [5] to [6] via the subpaths [[5]] and [[5], [5, 6], [6]].\n",
      "Path from [4, 5] to [2, 3] via the subpaths [[4, 5], [4], [3, 4], [3], [2, 3]] and [[2, 3]].\n",
      "Path from [4, 5] to [7, 8] via the subpaths [[4, 5], [4], [3, 4], [3], [2, 3], [2], [1, 2], [1], [1, 8], [8], [7, 8]] and [[7, 8]].\n",
      "All connected pairs of critical cells across time slices are : [[[5], [7], 0, 1], [[1, 2], [4, 5], 0, 1], [[1, 2], [5, 6], 0, 2], [[1, 2], [3, 4], 0, 3], [[1, 2], [7, 8], 0, 3], [[5], [8], 0, 4], [[1, 2], [5, 6], 0, 4], [[5], [4], 0, 5], [[1, 2], [7, 8], 0, 5], [[5], [6], 0, 6], [[1, 2], [2, 3], 0, 6], [[1, 2], [7, 8], 0, 6], [[1, 2], [4, 5], 0, 7], [[7], [5], 1, 0], [[4, 5], [1, 2], 1, 0], [[4, 5], [5, 6], 1, 2], [[4, 5], [1, 2], 1, 2], [[7], [5], 1, 3], [[4, 5], [3, 4], 1, 3], [[4, 5], [7, 8], 1, 3], [[7], [8], 1, 4], [[4, 5], [5, 6], 1, 4], [[7], [4], 1, 5], [[4, 5], [7, 8], 1, 5], [[7], [6], 1, 6], [[4, 5], [2, 3], 1, 6], [[4, 5], [7, 8], 1, 6], [[7], [5], 1, 7], [[7], [5], 2, 0], [[5], [7], 2, 1], [[1, 2], [4, 5], 2, 1], [[7], [5], 2, 3], [[1, 2], [3, 4], 2, 3], [[1, 2], [7, 8], 2, 3], [[5], [8], 2, 4], [[7], [8], 2, 4], [[5], [4], 2, 5], [[7], [4], 2, 5], [[1, 2], [7, 8], 2, 5], [[5], [6], 2, 6], [[7], [6], 2, 6], [[1, 2], [2, 3], 2, 6], [[1, 2], [7, 8], 2, 6], [[7], [5], 2, 7], [[1, 2], [4, 5], 2, 7], [[1], [5], 3, 0], [[3, 4], [1, 2], 3, 0], [[1], [7], 3, 1], [[5], [7], 3, 1], [[3, 4], [4, 5], 3, 1], [[1], [7], 3, 2], [[3, 4], [1, 2], 3, 2], [[7, 8], [5, 6], 3, 2], [[1], [8], 3, 4], [[5], [8], 3, 4], [[7, 8], [5, 6], 3, 4], [[1], [4], 3, 5], [[5], [4], 3, 5], [[5], [6], 3, 6], [[3, 4], [2, 3], 3, 6], [[1], [5], 3, 7], [[3, 4], [4, 5], 3, 7], [[8], [5], 4, 0], [[5, 6], [1, 2], 4, 0], [[8], [7], 4, 1], [[5, 6], [4, 5], 4, 1], [[8], [7], 4, 2], [[5, 6], [1, 2], 4, 2], [[8], [1], 4, 3], [[5, 6], [3, 4], 4, 3], [[5, 6], [7, 8], 4, 3], [[8], [4], 4, 5], [[5, 6], [7, 8], 4, 5], [[8], [1], 4, 6], [[5, 6], [2, 3], 4, 6], [[5, 6], [7, 8], 4, 6], [[8], [5], 4, 7], [[5, 6], [4, 5], 4, 7], [[4], [5], 5, 0], [[7, 8], [1, 2], 5, 0], [[4], [7], 5, 1], [[7, 8], [4, 5], 5, 1], [[4], [5], 5, 2], [[7, 8], [5, 6], 5, 2], [[7, 8], [1, 2], 5, 2], [[4], [5], 5, 3], [[7, 8], [3, 4], 5, 3], [[4], [8], 5, 4], [[7, 8], [5, 6], 5, 4], [[4], [6], 5, 6], [[7, 8], [2, 3], 5, 6], [[4], [5], 5, 7], [[7, 8], [4, 5], 5, 7], [[1], [5], 6, 0], [[6], [5], 6, 0], [[2, 3], [1, 2], 6, 0], [[1], [7], 6, 1], [[6], [7], 6, 1], [[2, 3], [4, 5], 6, 1], [[1], [7], 6, 2], [[6], [7], 6, 2], [[2, 3], [5, 6], 6, 2], [[2, 3], [1, 2], 6, 2], [[6], [5], 6, 3], [[2, 3], [3, 4], 6, 3], [[1], [8], 6, 4], [[6], [8], 6, 4], [[2, 3], [5, 6], 6, 4], [[1], [4], 6, 5], [[6], [4], 6, 5], [[1], [5], 6, 7], [[6], [5], 6, 7], [[2, 3], [4, 5], 6, 7], [[4, 5], [1, 2], 7, 0], [[5], [7], 7, 1], [[4, 5], [5, 6], 7, 2], [[4, 5], [1, 2], 7, 2], [[4, 5], [3, 4], 7, 3], [[4, 5], [7, 8], 7, 3], [[5], [8], 7, 4], [[4, 5], [5, 6], 7, 4], [[5], [4], 7, 5], [[4, 5], [7, 8], 7, 5], [[5], [6], 7, 6], [[4, 5], [2, 3], 7, 6], [[4, 5], [7, 8], 7, 6]].\n",
      "\n"
     ]
    }
   ],
   "source": [
    "connecting_critical_cells(G3,C,V)"
   ]
  },
  {
   "cell_type": "code",
   "execution_count": null,
   "metadata": {},
   "outputs": [],
   "source": []
  }
 ],
 "metadata": {
  "kernelspec": {
   "display_name": "Python 3",
   "language": "python",
   "name": "python3"
  },
  "language_info": {
   "codemirror_mode": {
    "name": "ipython",
    "version": 3
   },
   "file_extension": ".py",
   "mimetype": "text/x-python",
   "name": "python",
   "nbconvert_exporter": "python",
   "pygments_lexer": "ipython3",
   "version": "3.8.3"
  }
 },
 "nbformat": 4,
 "nbformat_minor": 4
}
